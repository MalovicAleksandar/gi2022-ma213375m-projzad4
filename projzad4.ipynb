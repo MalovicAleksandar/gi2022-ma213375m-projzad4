{
 "cells": [
  {
   "cell_type": "markdown",
   "id": "1b86782f",
   "metadata": {},
   "source": [
    "# Projektni zadatak 4, Genomska informatika, Skolska 2021/2022\n",
    "\n",
    "# Aleksandar Malovic 2021/3375"
   ]
  },
  {
   "cell_type": "markdown",
   "id": "c7029f81",
   "metadata": {},
   "source": [
    "## Assignment"
   ]
  },
  {
   "cell_type": "markdown",
   "id": "d96ff53c",
   "metadata": {},
   "source": [
    "* Implement an algorithm for indexed string search using Burrows-Wheeler transform and FM index as described on the lesson slides, without additional optimizations\n",
    "* Write tests for intermediate functions as well as final algorithm\n",
    "* Optimize algorithm in regards to memory usage and performace. Run regression tests and check optimization results using assigned testing parameters"
   ]
  },
  {
   "cell_type": "markdown",
   "id": "db28c472",
   "metadata": {},
   "source": [
    "## Testing remarks"
   ]
  },
  {
   "cell_type": "markdown",
   "id": "1a71a2fb",
   "metadata": {},
   "source": [
    "Tests for individual functions are grouped within testing functions to separate and enclose testing scopes. This also simplifies calling the tests at other places in the code."
   ]
  },
  {
   "cell_type": "markdown",
   "id": "a448859f",
   "metadata": {},
   "source": [
    "## Helper functions"
   ]
  },
  {
   "cell_type": "markdown",
   "id": "3724d078",
   "metadata": {},
   "source": [
    "#### Is input a valid string"
   ]
  },
  {
   "cell_type": "code",
   "execution_count": 1,
   "id": "51d27267",
   "metadata": {},
   "outputs": [],
   "source": [
    "def isInputValid(t):\n",
    "    return t != None and len(t) > 0\n",
    "\n",
    "def testInputValidation():\n",
    "    # Test case 1: None, should return false\n",
    "    assert not isInputValid(None)\n",
    "    \n",
    "    # Test case 2: Empty string, should return false\n",
    "    assert not isInputValid('')\n",
    "    \n",
    "    # Test case 3: Valid input\n",
    "    assert isInputValid('abc')"
   ]
  },
  {
   "cell_type": "code",
   "execution_count": 2,
   "id": "2bbb498c",
   "metadata": {},
   "outputs": [],
   "source": [
    "testInputValidation()"
   ]
  },
  {
   "cell_type": "markdown",
   "id": "8ccfe5d4",
   "metadata": {},
   "source": [
    "#### Is input a valid string with ending character"
   ]
  },
  {
   "cell_type": "code",
   "execution_count": 3,
   "id": "68f0f637",
   "metadata": {},
   "outputs": [],
   "source": [
    "def isBWInputValid(t):\n",
    "    return t != None and len(t) > 0 and t != \"$\" and t.endswith('$')\n",
    "\n",
    "def testInputValidation():\n",
    "    # Test case 1: None, should return false\n",
    "    assert not isBWInputValid(None)\n",
    "    \n",
    "    # Test case 2: Empty string, should return false\n",
    "    assert not isBWInputValid('')\n",
    "    \n",
    "    # Test case 3: String containing only the ending character, should return false\n",
    "    assert not isBWInputValid('$')\n",
    "    \n",
    "    # Test case 4: String missing ending character, should return false\n",
    "    assert not isBWInputValid('abc')\n",
    "    \n",
    "    # Test case 5: Valid string, should return true\n",
    "    assert isBWInputValid('abc$')"
   ]
  },
  {
   "cell_type": "code",
   "execution_count": 4,
   "id": "821b16c9",
   "metadata": {},
   "outputs": [],
   "source": [
    "testInputValidation()"
   ]
  },
  {
   "cell_type": "markdown",
   "id": "c4db65a1",
   "metadata": {},
   "source": [
    "#### Arays are equal check, both length and order"
   ]
  },
  {
   "cell_type": "code",
   "execution_count": 5,
   "id": "e127c7cc",
   "metadata": {},
   "outputs": [],
   "source": [
    "def arraysEqual(output, expectedOutput):\n",
    "    # Both inputs being None is considered an error as well\n",
    "    if output == None or expectedOutput == None:\n",
    "        return False\n",
    "    if  len(output) != len(expectedOutput):\n",
    "        return False\n",
    "    for i in range(0, len(expectedOutput)):\n",
    "         if output[i] != expectedOutput[i]:\n",
    "            return False\n",
    "    return True\n",
    "\n",
    "def testArraysEqual():\n",
    "    assert not arraysEqual(None, None)\n",
    "    \n",
    "    assert not arraysEqual(None, [])\n",
    "    \n",
    "    assert not arraysEqual(['0', '1', '2'], ['0', '1', '2', '3'])\n",
    "    \n",
    "    assert not arraysEqual(['0', '1'], ['2', '3'])\n",
    "    \n",
    "    assert arraysEqual(['0', '1', '2', '3'], ['0', '1', '2', '3'])"
   ]
  },
  {
   "cell_type": "code",
   "execution_count": 6,
   "id": "87143282",
   "metadata": {},
   "outputs": [],
   "source": [
    "testArraysEqual()"
   ]
  },
  {
   "cell_type": "markdown",
   "id": "280dcb80",
   "metadata": {},
   "source": [
    "#### Sets are equal check, order not important, same elements"
   ]
  },
  {
   "cell_type": "code",
   "execution_count": 7,
   "id": "5355e902",
   "metadata": {},
   "outputs": [],
   "source": [
    "def setsEqual(output, expectedOutput):\n",
    "    # Both input being None is considered an error as well\n",
    "    if output == None or expectedOutput == None:\n",
    "        return False\n",
    "    if  len(output) != len(expectedOutput):\n",
    "        return False\n",
    "    for e in output:\n",
    "         if e not in expectedOutput:\n",
    "            return False\n",
    "    return True\n",
    "\n",
    "def testSetsEqual():\n",
    "    assert not setsEqual(None, None)\n",
    "    \n",
    "    assert not setsEqual(None, [])\n",
    "    \n",
    "    assert not setsEqual(['0', '1', '2'], ['0', '1', '2', '3'])\n",
    "    \n",
    "    assert not setsEqual(['1', '0'], ['2', '3'])\n",
    "    \n",
    "    assert setsEqual(['0', '1', '3', '2'], ['2', '0', '1', '3'])"
   ]
  },
  {
   "cell_type": "code",
   "execution_count": 8,
   "id": "a7812ead",
   "metadata": {},
   "outputs": [],
   "source": [
    "testSetsEqual()"
   ]
  },
  {
   "cell_type": "markdown",
   "id": "65f50f4e",
   "metadata": {},
   "source": [
    "## Burrows-Wheeler transform"
   ]
  },
  {
   "cell_type": "markdown",
   "id": "b58bf45e",
   "metadata": {},
   "source": [
    "Burrows-Wheeler transform consists of three steps.\n",
    "* Create an array of all input string rotations\n",
    "* Sort array in alphabetical order (Burrows-Wheeler matrix)\n",
    "* Take last column of the Burrows-Wheeler matrix"
   ]
  },
  {
   "cell_type": "markdown",
   "id": "f6437b6b",
   "metadata": {},
   "source": [
    "**ASSUMPTION 1:** Input string will already have the ending character appended before being subjected to the BWT, otherwise functions will return None to indicate error. Algorithm could create a local copy with the ending character appended but in case of large strings creating a local copy with just one additional character would be suboptimal from a memory standpoint considering other functions in the FM index rely on the same string."
   ]
  },
  {
   "cell_type": "markdown",
   "id": "5c81594d",
   "metadata": {},
   "source": [
    "### Create array of all string rotations"
   ]
  },
  {
   "cell_type": "markdown",
   "id": "acbcd5c7",
   "metadata": {},
   "source": [
    "Function appends the string to itself to make it simpler to calculate rotations (based on lesson slides). Implementation using splicing is also possible but is suboptimal from a memory standpoint."
   ]
  },
  {
   "cell_type": "code",
   "execution_count": 9,
   "id": "12991d34",
   "metadata": {},
   "outputs": [],
   "source": [
    "def rotations(t):\n",
    "    if not isBWInputValid(t):\n",
    "        return None\n",
    "    tt = t * 2\n",
    "    return [ tt[i:i+len(t)] for i in range(0, len(t)) ]"
   ]
  },
  {
   "cell_type": "markdown",
   "id": "a3a3ac9e",
   "metadata": {},
   "source": [
    "#### Tests"
   ]
  },
  {
   "cell_type": "code",
   "execution_count": 10,
   "id": "0f4d8c31",
   "metadata": {},
   "outputs": [],
   "source": [
    "def testRotations():\n",
    "    # Test case 1: None, should return None\n",
    "    assert rotations(None) == None\n",
    "    \n",
    "    # Test case 2: Empty string, should return false\n",
    "    assert rotations('') == None\n",
    "    \n",
    "    # Test case 3: String containing only the ending character, should return false\n",
    "    assert rotations('$') == None\n",
    "    \n",
    "    # Test case 4: String missing ending character, should return false\n",
    "    assert rotations('abc') == None\n",
    "    \n",
    "    # Test case 5: Input string of just one character \n",
    "    inputValue = 'a$'\n",
    "    expectedOutput = ['a$', '$a']\n",
    "    output = rotations(inputValue)\n",
    "    assert arraysEqual(output, expectedOutput)\n",
    "    \n",
    "    # Test case 6: Valid input string\n",
    "    inputValue = 'abcd$'\n",
    "    expectedOutput = ['abcd$', 'bcd$a', 'cd$ab', 'd$abc', '$abcd']\n",
    "    output = rotations(inputValue)\n",
    "    assert arraysEqual(output, expectedOutput)"
   ]
  },
  {
   "cell_type": "code",
   "execution_count": 11,
   "id": "ca67e52b",
   "metadata": {},
   "outputs": [],
   "source": [
    "testRotations()"
   ]
  },
  {
   "cell_type": "markdown",
   "id": "95eb21d9",
   "metadata": {},
   "source": [
    "### Sort string rotations in alphabetical order, Burrows-Wheeler Matrix"
   ]
  },
  {
   "cell_type": "markdown",
   "id": "21f65486",
   "metadata": {},
   "source": [
    "Based on lesson slides."
   ]
  },
  {
   "cell_type": "code",
   "execution_count": 12,
   "id": "0563a080",
   "metadata": {},
   "outputs": [],
   "source": [
    "def calculateBurrowsWheelerMatrix(t):\n",
    "    r = rotations(t)\n",
    "    return sorted(r) if r != None else None"
   ]
  },
  {
   "cell_type": "markdown",
   "id": "1e1cb0e5",
   "metadata": {},
   "source": [
    "#### Tests"
   ]
  },
  {
   "cell_type": "code",
   "execution_count": 13,
   "id": "463a1337",
   "metadata": {},
   "outputs": [],
   "source": [
    "def testCalculateBurrowsWheelerMatrix():\n",
    "    # Test case 1: None, should return None\n",
    "    assert calculateBurrowsWheelerMatrix(None) == None\n",
    "    \n",
    "    # Test case 2: Empty string, should return None\n",
    "    assert calculateBurrowsWheelerMatrix('') == None\n",
    "    \n",
    "    # Test case 3: String containing only the ending character, should return None\n",
    "    assert calculateBurrowsWheelerMatrix('$') == None\n",
    "    \n",
    "    # Test case 4: String missing ending character, should return None\n",
    "    assert calculateBurrowsWheelerMatrix('abc') == None\n",
    "    \n",
    "    # Test case 5\n",
    "    inputValue = 'abcd$'\n",
    "    expectedOutput = ['$abcd','abcd$', 'bcd$a', 'cd$ab', 'd$abc']\n",
    "    output = calculateBurrowsWheelerMatrix(inputValue)\n",
    "    arraysEqual(output, expectedOutput)"
   ]
  },
  {
   "cell_type": "code",
   "execution_count": 14,
   "id": "63ba62a6",
   "metadata": {},
   "outputs": [],
   "source": [
    "testCalculateBurrowsWheelerMatrix()"
   ]
  },
  {
   "cell_type": "markdown",
   "id": "2cca75aa",
   "metadata": {},
   "source": [
    "### Generate final Burrows-Wheeler transform"
   ]
  },
  {
   "cell_type": "markdown",
   "id": "7d52bf2b",
   "metadata": {},
   "source": [
    "We take the last column of the sorted rotations matrix (based on lesson slides)"
   ]
  },
  {
   "cell_type": "code",
   "execution_count": 15,
   "id": "fd9510bd",
   "metadata": {},
   "outputs": [],
   "source": [
    "# Calculates the actual Burrows-Wheeler transform, or L index (last column of the matrix)\n",
    "def calculateLIndex(t):\n",
    "    return ''.join(map(lambda x: x[-1], t)) if t != None else None\n",
    "\n",
    "# Calculates the F index (first column of the matrix), needed for FM index later\n",
    "def calculateFIndex(t):\n",
    "    return ''.join(map(lambda x: x[0], t)) if t != None else None\n",
    "\n",
    "def calculateBurrowsWheelerTransform(t):\n",
    "    r = calculateBurrowsWheelerMatrix(t)\n",
    "    return calculateLIndex(r) if r != None else None"
   ]
  },
  {
   "cell_type": "markdown",
   "id": "5ad777bf",
   "metadata": {},
   "source": [
    "#### Tests"
   ]
  },
  {
   "cell_type": "code",
   "execution_count": 16,
   "id": "a9e40ea7",
   "metadata": {},
   "outputs": [],
   "source": [
    "def testCalculateLIndex():\n",
    "    # Test case 1: None, should return None\n",
    "    assert calculateLIndex(None) == None\n",
    "    \n",
    "    # Test case 2:\n",
    "    assert calculateLIndex(['$abcd','abcd$', 'bcd$a', 'cd$ab', 'd$abc']) == 'd$abc'\n",
    "    \n",
    "def testCalculateFIndex():\n",
    "    # Test case 1: None, should return None\n",
    "    assert calculateFIndex(None) == None\n",
    "    \n",
    "    # Test case 2:\n",
    "    assert calculateFIndex(['$abcd','abcd$', 'bcd$a', 'cd$ab', 'd$abc']) == '$abcd'\n",
    "\n",
    "def testBurrowsWheelerTransform():\n",
    "    # Test case 1: None, should return None\n",
    "    assert calculateBurrowsWheelerTransform(None) == None\n",
    "    \n",
    "    # Test case 2: Empty string, should return None\n",
    "    assert calculateBurrowsWheelerTransform('') == None\n",
    "    \n",
    "    # Test case 3: String containing only the ending character, should return None\n",
    "    assert calculateBurrowsWheelerTransform('$') == None\n",
    "    \n",
    "    # Test case 4: String missing ending character, should return None\n",
    "    assert calculateBurrowsWheelerTransform('abc') == None\n",
    "    \n",
    "    # Test case 5\n",
    "    inputValue = 'abcd$'\n",
    "    expectedOutput = 'd$abc'\n",
    "    output = calculateBurrowsWheelerTransform(inputValue)\n",
    "    assert output != None\n",
    "    assert output == expectedOutput\n",
    "    \n",
    "    # Test case 6\n",
    "    inputValue = 'abaaba$'\n",
    "    expectedOutput = 'abba$aa'\n",
    "    output = calculateBurrowsWheelerTransform(inputValue)\n",
    "    assert output != None\n",
    "    assert output == expectedOutput"
   ]
  },
  {
   "cell_type": "code",
   "execution_count": 17,
   "id": "551c9144",
   "metadata": {},
   "outputs": [],
   "source": [
    "testCalculateLIndex()\n",
    "\n",
    "testCalculateFIndex()\n",
    "\n",
    "testBurrowsWheelerTransform()"
   ]
  },
  {
   "cell_type": "markdown",
   "id": "8d84dc43",
   "metadata": {},
   "source": [
    "## FM index"
   ]
  },
  {
   "cell_type": "markdown",
   "id": "26cc33b8",
   "metadata": {},
   "source": [
    "Core of the FM index structure consists of the following data:\n",
    "* F index (first column of the Burrows-Wheeler matrix)\n",
    "* L index (last column of the Burrows-Wheeler matrix, the Burrows-Wheeler transform itself)\n",
    "* Tally (matrix of input string character ranks)\n",
    "* Suffix array of the input string"
   ]
  },
  {
   "cell_type": "markdown",
   "id": "ffd1f1d7",
   "metadata": {},
   "source": [
    "### Calculate tally"
   ]
  },
  {
   "cell_type": "markdown",
   "id": "1f55b7cf",
   "metadata": {},
   "source": [
    "Tally is a matrix of L index(referred to as input string for simplicity in following paragraph) character ranks.\n",
    "Each row is assigned to one of the characters of the input string (except the terminal character). The number of columns is equal to the length of the input string. The value of a particular field in the matrix is the rank of the particular character at that point of the input string, which represents how many occurences of said character have been in the input string so far."
   ]
  },
  {
   "cell_type": "code",
   "execution_count": 31,
   "id": "3814d7bf",
   "metadata": {},
   "outputs": [],
   "source": [
    "def calculateTally(t):\n",
    "    if not isInputValid(t):\n",
    "        return None\n",
    "    # Start with empty tally\n",
    "    tally = {}\n",
    "    for i in range(0, len(t)):\n",
    "        # Copy previous column values to current one\n",
    "        for value in tally.values():\n",
    "            value[i] = value[i-1]\n",
    "        \"\"\" \n",
    "        Take current character in input string.\n",
    "        If a row for said character exists, increment rank. If not, insert a row populated with 0s, and then increment.\n",
    "        \"\"\"\n",
    "        currentChar = t[i]\n",
    "        if currentChar not in tally:\n",
    "            tally[currentChar] = [0] * len(t)\n",
    "        tally[currentChar][i] += 1\n",
    "    return tally"
   ]
  },
  {
   "cell_type": "markdown",
   "id": "4074e66a",
   "metadata": {},
   "source": [
    "#### Tests"
   ]
  },
  {
   "cell_type": "code",
   "execution_count": 34,
   "id": "6bb77895",
   "metadata": {},
   "outputs": [],
   "source": [
    "def testCalculateTally():\n",
    "    # Test case 1: None, should return None\n",
    "    assert calculateTally(None) == None\n",
    "    \n",
    "    # Test case 2: Empty string, should return none\n",
    "    assert calculateTally('') == None\n",
    "    \n",
    "    # Test case 3: One character string\n",
    "    inputValue = 'a'\n",
    "    expectedOutput = {\n",
    "        'a': [1]\n",
    "    }\n",
    "    output = calculateTally(inputValue)\n",
    "    assert output != None\n",
    "    assert setsEqual(output.keys(), expectedOutput.keys())\n",
    "    for key in output.keys():\n",
    "        assert arraysEqual(output[key], expectedOutput[key])\n",
    "    \n",
    "    # Test case 4: Valid BWT string\n",
    "    inputValue = 'abcaab$c'\n",
    "    expectedOutput = {\n",
    "        '$': [0, 0, 0, 0, 0, 0, 1, 1],\n",
    "        'a': [1, 1, 1, 2, 3, 3, 3, 3],\n",
    "        'b': [0, 1, 1, 1, 1, 2, 2, 2],\n",
    "        'c': [0, 0, 1, 1, 1, 1, 1, 2]\n",
    "    }\n",
    "    output = calculateTally(inputValue)\n",
    "    assert output != None\n",
    "    assert setsEqual(output.keys(), expectedOutput.keys())\n",
    "    for key in output.keys():\n",
    "        assert arraysEqual(output[key], expectedOutput[key])"
   ]
  },
  {
   "cell_type": "code",
   "execution_count": 35,
   "id": "e1f220ac",
   "metadata": {},
   "outputs": [],
   "source": [
    "testCalculateTally()"
   ]
  },
  {
   "cell_type": "markdown",
   "id": "174fb879",
   "metadata": {},
   "source": [
    "### Calculate suffix array"
   ]
  },
  {
   "cell_type": "markdown",
   "id": "16ecc493",
   "metadata": {},
   "source": [
    "Suffix array is a sorted array of all suffixes of an input string. The array itself contains tuples (offset, suffix), sorted by suffix, where offset is the offset of the suffix within the input string. In case of an FM index, we are storing a suffix array of the original input string."
   ]
  },
  {
   "cell_type": "code",
   "execution_count": 21,
   "id": "c4419f63",
   "metadata": {},
   "outputs": [],
   "source": [
    "def calculateSuffixArray(t):\n",
    "    if not isInputValid(t):\n",
    "        return None\n",
    "    suffixArray = []\n",
    "    for i in range(0, len(t)):\n",
    "        suffixArray.append((i, t[i:]))\n",
    "    return sorted(suffixArray, key=lambda x: x[1])"
   ]
  },
  {
   "cell_type": "markdown",
   "id": "fe307c44",
   "metadata": {},
   "source": [
    "#### Tests"
   ]
  },
  {
   "cell_type": "code",
   "execution_count": 22,
   "id": "70cd015b",
   "metadata": {},
   "outputs": [],
   "source": [
    "def testCalculateSuffixArray():\n",
    "    # Test case 1: None, should return None\n",
    "    assert calculateSuffixArray(None) == None\n",
    "    \n",
    "    # Test case 2: Empty string, should return none\n",
    "    assert calculateSuffixArray('') == None\n",
    "    \n",
    "    # Test case 3: String with one character\n",
    "    inputValue = 'a'\n",
    "    expectedOutput = [(0, 'a')]\n",
    "    output = calculateSuffixArray(inputValue)\n",
    "    assert arraysEqual(output, expectedOutput)\n",
    "    \n",
    "    # Test case 4: Valid string\n",
    "    inputValue = 'abcaabc$'\n",
    "    expectedOutput = [(7, '$'),(3,'aabc$'), (4,'abc$'), \n",
    "                      (0,'abcaabc$'), (5,'bc$'), (1,'bcaabc$'),(6,'c$'),(2,'caabc$')]\n",
    "    output = calculateSuffixArray(inputValue)\n",
    "    assert arraysEqual(output, expectedOutput)"
   ]
  },
  {
   "cell_type": "code",
   "execution_count": 23,
   "id": "e0528032",
   "metadata": {},
   "outputs": [],
   "source": [
    "testCalculateSuffixArray()"
   ]
  },
  {
   "cell_type": "markdown",
   "id": "113e48b1",
   "metadata": {},
   "source": [
    "### FMIndex class with query support"
   ]
  },
  {
   "cell_type": "markdown",
   "id": "d6925df7",
   "metadata": {},
   "source": [
    "FM index querying is performed in the following way.\n",
    "\n",
    "If we are looking for P, start with characters in P in reverse order. Find positions of P's shortest suffix, and then extend the suffix until we exhaust P, or are not able to calculate the position of the next suffix, in which case we know there is no match.\n",
    "\n",
    "**EXAMPLE:**\n",
    "\n",
    "Let us assume R is ABCD, string we are querying is T. \n",
    "\n",
    "* Start with D and calculate first and last position of D based on the F Index.\n",
    "\n",
    " **\\[start, end\\] = \\[index of first occurence of D in F index + 1, index of last occurence of D in F index\\]**\n",
    " \n",
    "* Now we are looking for CD. Using LF mapping, we can see the rows of L index that contain C before D using the F index and the tally.\n",
    "\n",
    " **\\[start, end\\] = \\[\n",
    "index of first occurence of C in F index + tally(C, start -1) + 1, \n",
    "index of first occurence of C in F index + tally(C, end)\n",
    "\\]**\n",
    "\n",
    "* Continue repeating the process until we exhaust R, or until we get an invalid value."
   ]
  },
  {
   "cell_type": "code",
   "execution_count": 95,
   "id": "c82a0a13",
   "metadata": {},
   "outputs": [],
   "source": [
    "class FMIndex:\n",
    "    def __init__(self, t):\n",
    "        \"\"\"\n",
    "        Check if input is a valid string.\n",
    "        If input doesn't already have the ending character, append the ending character.\n",
    "        \"\"\"\n",
    "        if not isInputValid(t):\n",
    "            raise ValueError(\"Invalid input string for calculating FM index\")\n",
    "        tt = t\n",
    "        if not tt.endswith('$'):\n",
    "            tt += '$'\n",
    "        self.t = tt\n",
    "        self.fIndex = None\n",
    "        self.lIndex = None\n",
    "        self.tally = None\n",
    "        self.suffixArray = None\n",
    "        \n",
    "    \"\"\"\n",
    "    Calculates the FM index fields based on assigned input string\n",
    "    \"\"\"\n",
    "    def calculate(self):\n",
    "        bwm = calculateBurrowsWheelerMatrix(self.t)\n",
    "        self.fIndex = calculateFIndex(bwm)\n",
    "        self.lIndex = calculateLIndex(bwm)\n",
    "        self.tally = calculateTally(self.lIndex)\n",
    "        self.suffixArray = calculateSuffixArray(self.t)\n",
    "    \n",
    "    \"\"\"\n",
    "    Queries the initial string t for substring p. Returns array of indexes within t where p is located.\n",
    "    \"\"\"\n",
    "    def query(self, p):\n",
    "        start = 0\n",
    "        end = 0\n",
    "        length = len(p)\n",
    "        for i in range(0, length):\n",
    "            currentChar = p[length - i - 1]\n",
    "            if start == 0 and end == 0: # first character, look just in F index\n",
    "                start = self.fIndex.index(currentChar)\n",
    "                end = self.fIndex.rindex(currentChar)\n",
    "            else:\n",
    "                firstOcc = self.fIndex.index(currentChar)\n",
    "                start = firstOcc + self.tally[currentChar][start - 1]\n",
    "                end = firstOcc + self.tally[currentChar][end]\n",
    "        return [suffix[0] for suffix in self.suffixArray[start:end]]"
   ]
  },
  {
   "cell_type": "markdown",
   "id": "dda61b2c",
   "metadata": {},
   "source": [
    "#### Tests"
   ]
  },
  {
   "cell_type": "code",
   "execution_count": 103,
   "id": "3d042da6",
   "metadata": {},
   "outputs": [],
   "source": [
    "def _testFMIndex(t, p, expectedOutput, expectedFailure):\n",
    "    try:\n",
    "        fmIndex = FMIndex(t)\n",
    "    except ValueError:\n",
    "        return True if expectedFailure else False\n",
    "    fmIndex.calculate()\n",
    "    output = fmIndex.query(p)\n",
    "    assert output != None\n",
    "    assert arraysEqual(output, expectedOutput)\n",
    "    del fmIndex\n",
    "    return True\n",
    "\n",
    "def testFMIndex():\n",
    "    # Test case 1: None\n",
    "    assert _testFMIndex(None, '', [], True)\n",
    "    assert not _testFMIndex(None, '', [], False)\n",
    "    \n",
    "    # Test case 2: Empty string\n",
    "    assert _testFMIndex('', '', [], True)\n",
    "    assert not _testFMIndex('', '', [], False)\n",
    "    \n",
    "    #Test case 3: Simple string without ending character\n",
    "    assert _testFMIndex('testtest', 'te', [4, 0], False)\n",
    "    \n",
    "    #Test case 4: Simple string with ending character\n",
    "    assert _testFMIndex('testtest$', 'te', [4, 0], False)"
   ]
  },
  {
   "cell_type": "code",
   "execution_count": 104,
   "id": "0f49997d",
   "metadata": {},
   "outputs": [],
   "source": [
    "testFMIndex()"
   ]
  }
 ],
 "metadata": {
  "kernelspec": {
   "display_name": "Python 3 (ipykernel)",
   "language": "python",
   "name": "python3"
  },
  "language_info": {
   "codemirror_mode": {
    "name": "ipython",
    "version": 3
   },
   "file_extension": ".py",
   "mimetype": "text/x-python",
   "name": "python",
   "nbconvert_exporter": "python",
   "pygments_lexer": "ipython3",
   "version": "3.8.10"
  }
 },
 "nbformat": 4,
 "nbformat_minor": 5
}
