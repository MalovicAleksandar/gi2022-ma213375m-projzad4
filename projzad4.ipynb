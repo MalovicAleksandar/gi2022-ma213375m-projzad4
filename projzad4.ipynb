{
 "cells": [
  {
   "cell_type": "markdown",
   "id": "b1fa36c1",
   "metadata": {},
   "source": [
    "# Projektni zadatak 4, Genomska informatika, Skolska 2021/2022\n",
    "\n",
    "# Aleksandar Malovic 2021/3375"
   ]
  },
  {
   "cell_type": "markdown",
   "id": "f1ae5a98",
   "metadata": {},
   "source": [
    "## Assignment"
   ]
  },
  {
   "cell_type": "markdown",
   "id": "0de53b37",
   "metadata": {},
   "source": [
    "* Implement an algorithm for indexed string search using Burrows-Wheeler transform and FM index as described on the lesson slides, without additional optimizations\n",
    "* Write tests for intermediate functions as well as final algorithm\n",
    "* Optimize algorithm in regards to memory usage and performace. Run regression tests and check optimization results using assigned testing parameters"
   ]
  },
  {
   "cell_type": "markdown",
   "id": "2d2405ae",
   "metadata": {},
   "source": [
    "## Assumptions"
   ]
  },
  {
   "cell_type": "markdown",
   "id": "812f8a82",
   "metadata": {},
   "source": [
    "**ASSUMPTION 1:** Input string will already have the ending character appended, otherwise functions will return None to indicate error. Algorithm could create a local copy with the ending character appended but in case of large strings creating a local copy with just one additional character would be suboptimal from a memory standpoint."
   ]
  },
  {
   "cell_type": "markdown",
   "id": "fa55e5e1",
   "metadata": {},
   "source": [
    "## Testing remarks"
   ]
  },
  {
   "cell_type": "markdown",
   "id": "270acdcc",
   "metadata": {},
   "source": [
    "Tests for individual functions are grouped within testing functions to separate and enclose testing scopes. This also simplifies calling the tests at other places in the code."
   ]
  },
  {
   "cell_type": "markdown",
   "id": "0df367b4",
   "metadata": {},
   "source": [
    "## Helper functions"
   ]
  },
  {
   "cell_type": "markdown",
   "id": "c8c2c173",
   "metadata": {},
   "source": [
    "#### Is input a valid string with ending character"
   ]
  },
  {
   "cell_type": "code",
   "execution_count": 109,
   "id": "bb529187",
   "metadata": {},
   "outputs": [],
   "source": [
    "def isInputValid(t):\n",
    "    return t != None and len(t) > 0 and t != \"$\" and t.endswith('$')\n",
    "\n",
    "def testInputValidation():\n",
    "    # Test case 1: None, should return false\n",
    "    assert not isInputValid(None)\n",
    "    \n",
    "    # Test case 2: Empty string, should return false\n",
    "    assert not isInputValid('')\n",
    "    \n",
    "    # Test case 3: String containing only the ending character, should return false\n",
    "    assert not isInputValid('$')\n",
    "    \n",
    "    # Test case 4: String missing ending character, should return false\n",
    "    assert not isInputValid('abc')\n",
    "    \n",
    "    # Test case 5: Valid string, should return true\n",
    "    assert isInputValid('abc$')"
   ]
  },
  {
   "cell_type": "code",
   "execution_count": 113,
   "id": "b37fe60b",
   "metadata": {},
   "outputs": [],
   "source": [
    "testInputValidation()"
   ]
  },
  {
   "cell_type": "markdown",
   "id": "6cdec519",
   "metadata": {},
   "source": [
    "#### Arays are equal check, both length and order"
   ]
  },
  {
   "cell_type": "code",
   "execution_count": 114,
   "id": "cb6d1e99",
   "metadata": {},
   "outputs": [],
   "source": [
    "def arraysEqual(output, expectedOutput):\n",
    "    # Both inputs being None is considered an error as well\n",
    "    if output == None or expectedOutput == None:\n",
    "        return False\n",
    "    if  len(output) != len(expectedOutput):\n",
    "        return False\n",
    "    for i in range(0, len(expectedOutput)):\n",
    "         if output[i] != expectedOutput[i]:\n",
    "            return False\n",
    "    return True\n",
    "\n",
    "def testArraysEqual():\n",
    "    assert not arraysEqual(None, None)\n",
    "    \n",
    "    assert not arraysEqual(None, [])\n",
    "    \n",
    "    assert not arraysEqual(['0', '1', '2'], ['0', '1', '2', '3'])\n",
    "    \n",
    "    assert not arraysEqual(['0', '1'], ['2', '3'])\n",
    "    \n",
    "    assert arraysEqual(['0', '1', '2', '3'], ['0', '1', '2', '3'])"
   ]
  },
  {
   "cell_type": "code",
   "execution_count": 115,
   "id": "dcde6c61",
   "metadata": {},
   "outputs": [],
   "source": [
    "testArraysEqual()"
   ]
  },
  {
   "cell_type": "markdown",
   "id": "8a006296",
   "metadata": {},
   "source": [
    "#### Sets are equal check, order not important, same elements"
   ]
  },
  {
   "cell_type": "code",
   "execution_count": 128,
   "id": "0d7b6162",
   "metadata": {},
   "outputs": [],
   "source": [
    "def setsEqual(output, expectedOutput):\n",
    "    # Both input being None is considered an error as well\n",
    "    if output == None or expectedOutput == None:\n",
    "        return False\n",
    "    if  len(output) != len(expectedOutput):\n",
    "        return False\n",
    "    for i in range(0, len(expectedOutput)):\n",
    "         if output[i] not in expectedOutput:\n",
    "            return False\n",
    "    return True\n",
    "\n",
    "def testSetsEqual():\n",
    "    assert not setsEqual(None, None)\n",
    "    \n",
    "    assert not setsEqual(None, [])\n",
    "    \n",
    "    assert not setsEqual(['0', '1', '2'], ['0', '1', '2', '3'])\n",
    "    \n",
    "    assert not setsEqual(['1', '0'], ['2', '3'])\n",
    "    \n",
    "    assert setsEqual(['0', '1', '3', '2'], ['2', '0', '1', '3'])"
   ]
  },
  {
   "cell_type": "code",
   "execution_count": 129,
   "id": "33a7cc72",
   "metadata": {},
   "outputs": [],
   "source": [
    "testSetsEqual()"
   ]
  },
  {
   "cell_type": "markdown",
   "id": "b022ce8b",
   "metadata": {},
   "source": [
    "## Burrows-Wheeler transform"
   ]
  },
  {
   "cell_type": "markdown",
   "id": "557cc6b7",
   "metadata": {},
   "source": [
    "Burrows-Wheeler transform consists of three steps.\n",
    "* Create an array of all input string rotations\n",
    "* Sort array in alphabetical order (Burrows-Wheeler matrix)\n",
    "* Take last column of the Burrows-Wheeler matrix"
   ]
  },
  {
   "cell_type": "markdown",
   "id": "b7e83587",
   "metadata": {},
   "source": [
    "### Create array of all string rotations"
   ]
  },
  {
   "cell_type": "markdown",
   "id": "bc5a91fb",
   "metadata": {},
   "source": [
    "Function appends the string to itself to make it simpler to calculate rotations (based on lesson slides). Implementation using splicing is also possible but is suboptimal from a memory standpoint."
   ]
  },
  {
   "cell_type": "code",
   "execution_count": 50,
   "id": "e1bc17ba",
   "metadata": {},
   "outputs": [],
   "source": [
    "def rotations(t):\n",
    "    if not isInputValid(t):\n",
    "        return None\n",
    "    tt = t * 2\n",
    "    return [ tt[i:i+len(t)] for i in range(0, len(t)) ]"
   ]
  },
  {
   "cell_type": "markdown",
   "id": "a8c30ce8",
   "metadata": {},
   "source": [
    "#### Tests"
   ]
  },
  {
   "cell_type": "code",
   "execution_count": 116,
   "id": "9f9b587a",
   "metadata": {},
   "outputs": [],
   "source": [
    "def testRotations():\n",
    "    # Test case 1: None, should return None\n",
    "    assert rotations(None) == None\n",
    "    \n",
    "    # Test case 2: Empty string, should return false\n",
    "    assert rotations('') == None\n",
    "    \n",
    "    # Test case 3: String containing only the ending character, should return false\n",
    "    assert rotations('$') == None\n",
    "    \n",
    "    # Test case 4: String missing ending character, should return false\n",
    "    assert rotations('abc') == None\n",
    "    \n",
    "    # Test case 5: Input string of just one character \n",
    "    inputValue = 'a$'\n",
    "    expectedOutput = ['a$', '$a']\n",
    "    output = rotations(inputValue)\n",
    "    assert arraysEqual(output, expectedOutput)\n",
    "    \n",
    "    # Test case 6: Valid input string\n",
    "    inputValue = 'abcd$'\n",
    "    expectedOutput = ['abcd$', 'bcd$a', 'cd$ab', 'd$abc', '$abcd']\n",
    "    output = rotations(inputValue)\n",
    "    assert arraysEqual(output, expectedOutput)"
   ]
  },
  {
   "cell_type": "code",
   "execution_count": 117,
   "id": "589a71bf",
   "metadata": {},
   "outputs": [],
   "source": [
    "testRotations()"
   ]
  },
  {
   "cell_type": "markdown",
   "id": "8a5434dd",
   "metadata": {},
   "source": [
    "### Sort string rotations in alphabetical order, Burrows-Wheeler Matrix"
   ]
  },
  {
   "cell_type": "markdown",
   "id": "63ef7a91",
   "metadata": {},
   "source": [
    "Based on lesson slides."
   ]
  },
  {
   "cell_type": "code",
   "execution_count": 87,
   "id": "3d0b1158",
   "metadata": {},
   "outputs": [],
   "source": [
    "def calculateBurrowsWheelerMatrix(t):\n",
    "    r = rotations(t)\n",
    "    return sorted(r) if r != None else None"
   ]
  },
  {
   "cell_type": "markdown",
   "id": "c39dd857",
   "metadata": {},
   "source": [
    "#### Tests"
   ]
  },
  {
   "cell_type": "code",
   "execution_count": 118,
   "id": "227a09c3",
   "metadata": {},
   "outputs": [],
   "source": [
    "def testCalculateBurrowsWheelerMatrix():\n",
    "    # Test case 1: None, should return None\n",
    "    assert calculateBurrowsWheelerMatrix(None) == None\n",
    "    \n",
    "    # Test case 2: Empty string, should return None\n",
    "    assert calculateBurrowsWheelerMatrix('') == None\n",
    "    \n",
    "    # Test case 3: String containing only the ending character, should return None\n",
    "    assert calculateBurrowsWheelerMatrix('$') == None\n",
    "    \n",
    "    # Test case 4: String missing ending character, should return None\n",
    "    assert calculateBurrowsWheelerMatrix('abc') == None\n",
    "    \n",
    "    # Test case 5\n",
    "    inputValue = 'abcd$'\n",
    "    expectedOutput = ['$abcd','abcd$', 'bcd$a', 'cd$ab', 'd$abc']\n",
    "    output = calculateBurrowsWheelerMatrix(inputValue)\n",
    "    arraysEqual(output, expectedOutput)"
   ]
  },
  {
   "cell_type": "code",
   "execution_count": 119,
   "id": "8c120b9e",
   "metadata": {},
   "outputs": [],
   "source": [
    "testCalculateBurrowsWheelerMatrix()"
   ]
  },
  {
   "cell_type": "markdown",
   "id": "da0d94b1",
   "metadata": {},
   "source": [
    "### Generate final Burrows-Wheeler transform"
   ]
  },
  {
   "cell_type": "markdown",
   "id": "9d49e0a4",
   "metadata": {},
   "source": [
    "We take the last column of the sorted rotations matrix (based on lesson slides)"
   ]
  },
  {
   "cell_type": "code",
   "execution_count": 93,
   "id": "413af335",
   "metadata": {},
   "outputs": [],
   "source": [
    "# Calculates the actual Burrows-Wheeler transform, or L index (last column of the matrix)\n",
    "def calculateLIndex(t):\n",
    "    return ''.join(map(lambda x: x[-1], t)) if t != None else None\n",
    "\n",
    "# Calculates the F index (first column of the matrix), needed for FM index later\n",
    "def calculateFIndex(t):\n",
    "    return ''.join(map(lambda x: x[0], t)) if t != None else None\n",
    "\n",
    "def calculateBurrowsWheelerTransform(t):\n",
    "    r = calculateBurrowsWheelerMatrix(t)\n",
    "    return calculateLIndex(r) if r != None else None"
   ]
  },
  {
   "cell_type": "markdown",
   "id": "ca3eea94",
   "metadata": {},
   "source": [
    "#### Tests"
   ]
  },
  {
   "cell_type": "code",
   "execution_count": 120,
   "id": "0c975c17",
   "metadata": {},
   "outputs": [],
   "source": [
    "def testCalculateLIndex():\n",
    "    # Test case 1: None, should return None\n",
    "    assert calculateLIndex(None) == None\n",
    "    \n",
    "    # Test case 2:\n",
    "    assert calculateLIndex(['$abcd','abcd$', 'bcd$a', 'cd$ab', 'd$abc']) == 'd$abc'\n",
    "    \n",
    "def testCalculateFIndex():\n",
    "    # Test case 1: None, should return None\n",
    "    assert calculateFIndex(None) == None\n",
    "    \n",
    "    # Test case 2:\n",
    "    assert calculateFIndex(['$abcd','abcd$', 'bcd$a', 'cd$ab', 'd$abc']) == '$abcd'\n",
    "\n",
    "def testBurrowsWheelerTransform():\n",
    "    # Test case 1: None, should return None\n",
    "    assert calculateBurrowsWheelerTransform(None) == None\n",
    "    \n",
    "    # Test case 2: Empty string, should return None\n",
    "    assert calculateBurrowsWheelerTransform('') == None\n",
    "    \n",
    "    # Test case 3: String containing only the ending character, should return None\n",
    "    assert calculateBurrowsWheelerTransform('$') == None\n",
    "    \n",
    "    # Test case 4: String missing ending character, should return None\n",
    "    assert calculateBurrowsWheelerTransform('abc') == None\n",
    "    \n",
    "    # Test case 5\n",
    "    inputValue = 'abcd$'\n",
    "    expectedOutput = 'd$abc'\n",
    "    output = calculateBurrowsWheelerTransform(inputValue)\n",
    "    assert output != None\n",
    "    assert output == expectedOutput\n",
    "    \n",
    "    # Test case 6\n",
    "    inputValue = 'abaaba$'\n",
    "    expectedOutput = 'abba$aa'\n",
    "    output = calculateBurrowsWheelerTransform(inputValue)\n",
    "    assert output != None\n",
    "    assert output == expectedOutput"
   ]
  },
  {
   "cell_type": "code",
   "execution_count": 121,
   "id": "43110e69",
   "metadata": {},
   "outputs": [],
   "source": [
    "testCalculateLIndex()\n",
    "\n",
    "testCalculateFIndex()\n",
    "\n",
    "testBurrowsWheelerTransform()"
   ]
  },
  {
   "cell_type": "markdown",
   "id": "d3de1d17",
   "metadata": {},
   "source": [
    "## FM index"
   ]
  },
  {
   "cell_type": "markdown",
   "id": "776e7319",
   "metadata": {},
   "source": [
    "Core of the FM index structure consists of the following data:\n",
    "* F index (first column of the Burrows-Wheeler matrix)\n",
    "* L index (last column of the Burrows-Wheeler matrix, the Burrows-Wheeler transform itself)\n",
    "* Tally (matrix of input string character ranks)\n",
    "* Suffix array of the input string"
   ]
  },
  {
   "cell_type": "markdown",
   "id": "7f5769fe",
   "metadata": {},
   "source": [
    "### Calculate tally"
   ]
  },
  {
   "cell_type": "markdown",
   "id": "e7a0bb8e",
   "metadata": {},
   "source": [
    "Tally is a matrix of L index(referred to as input string for simplicity in following paragraph) character ranks.\n",
    "Each row is assigned to one of the characters of the input string (except the terminal character). The number of columns is equal to the length of the input string. The value of a particular field in the matrix is the rank of the particular character at that point of the input string, which represents how many occurences of said character have been in the input string so far."
   ]
  },
  {
   "cell_type": "code",
   "execution_count": 136,
   "id": "9552cb5c",
   "metadata": {},
   "outputs": [],
   "source": [
    "def calculateTally(t):\n",
    "    # Start with empty tally\n",
    "    tally = {}\n",
    "    for i in range(0, len(t)):\n",
    "        # Copy previous column values to current one\n",
    "        for value in tally.values():\n",
    "            value[i] = value[i-1]\n",
    "        \"\"\" \n",
    "        Take current character in input string.\n",
    "        If a row for said character exists, increment rank. If not, insert a row populated with 0s, and then increment.\n",
    "        \"\"\"\n",
    "        currentChar = t[i]\n",
    "        if (currentChar == '$'):\n",
    "            continue\n",
    "        if currentChar not in tally:\n",
    "            tally[currentChar] = [0] * len(t)\n",
    "        tally[currentChar][i] += 1\n",
    "    return tally"
   ]
  },
  {
   "cell_type": "markdown",
   "id": "6a18a936",
   "metadata": {},
   "source": [
    "#### Tests"
   ]
  },
  {
   "cell_type": "code",
   "execution_count": 134,
   "id": "d24d9a07",
   "metadata": {},
   "outputs": [],
   "source": [
    "def testCalculateTally():\n",
    "    # Test case 1:\n",
    "    inputValue = 'abcaabc$'\n",
    "    expectedOutput = {\n",
    "        'a': [1, 1, 1, 2, 3, 3, 3, 3],\n",
    "        'b': [0, 1, 1, 1, 1, 2, 2, 2],\n",
    "        'c': [0, 0, 1, 1, 1, 1, 2, 2]\n",
    "    }\n",
    "    output = calculateTally(inputValue)\n",
    "    assert output != None\n",
    "    assert setsEqual(output.keys(), expectedOutput.keys())\n",
    "    for key in output.keys():\n",
    "        assert arraysEqual(output[key], expectedOutput[key])"
   ]
  },
  {
   "cell_type": "code",
   "execution_count": 137,
   "id": "12616b26",
   "metadata": {},
   "outputs": [
    {
     "ename": "TypeError",
     "evalue": "'dict_keys' object is not subscriptable",
     "output_type": "error",
     "traceback": [
      "\u001b[0;31m---------------------------------------------------------------------------\u001b[0m",
      "\u001b[0;31mTypeError\u001b[0m                                 Traceback (most recent call last)",
      "Input \u001b[0;32mIn [137]\u001b[0m, in \u001b[0;36m<cell line: 1>\u001b[0;34m()\u001b[0m\n\u001b[0;32m----> 1\u001b[0m \u001b[43mtestCalculateTally\u001b[49m\u001b[43m(\u001b[49m\u001b[43m)\u001b[49m\n",
      "Input \u001b[0;32mIn [134]\u001b[0m, in \u001b[0;36mtestCalculateTally\u001b[0;34m()\u001b[0m\n\u001b[1;32m      9\u001b[0m output \u001b[38;5;241m=\u001b[39m calculateTally(inputValue)\n\u001b[1;32m     10\u001b[0m \u001b[38;5;28;01massert\u001b[39;00m output \u001b[38;5;241m!=\u001b[39m \u001b[38;5;28;01mNone\u001b[39;00m\n\u001b[0;32m---> 11\u001b[0m \u001b[38;5;28;01massert\u001b[39;00m \u001b[43msetsEqual\u001b[49m\u001b[43m(\u001b[49m\u001b[43moutput\u001b[49m\u001b[38;5;241;43m.\u001b[39;49m\u001b[43mkeys\u001b[49m\u001b[43m(\u001b[49m\u001b[43m)\u001b[49m\u001b[43m,\u001b[49m\u001b[43m \u001b[49m\u001b[43mexpectedOutput\u001b[49m\u001b[38;5;241;43m.\u001b[39;49m\u001b[43mkeys\u001b[49m\u001b[43m(\u001b[49m\u001b[43m)\u001b[49m\u001b[43m)\u001b[49m\n\u001b[1;32m     12\u001b[0m \u001b[38;5;28;01mfor\u001b[39;00m key \u001b[38;5;129;01min\u001b[39;00m output\u001b[38;5;241m.\u001b[39mkeys():\n\u001b[1;32m     13\u001b[0m     \u001b[38;5;28;01massert\u001b[39;00m arraysEqual(output[key], expectedOutput[key])\n",
      "Input \u001b[0;32mIn [128]\u001b[0m, in \u001b[0;36msetsEqual\u001b[0;34m(output, expectedOutput)\u001b[0m\n\u001b[1;32m      6\u001b[0m     \u001b[38;5;28;01mreturn\u001b[39;00m \u001b[38;5;28;01mFalse\u001b[39;00m\n\u001b[1;32m      7\u001b[0m \u001b[38;5;28;01mfor\u001b[39;00m i \u001b[38;5;129;01min\u001b[39;00m \u001b[38;5;28mrange\u001b[39m(\u001b[38;5;241m0\u001b[39m, \u001b[38;5;28mlen\u001b[39m(expectedOutput)):\n\u001b[0;32m----> 8\u001b[0m      \u001b[38;5;28;01mif\u001b[39;00m \u001b[43moutput\u001b[49m\u001b[43m[\u001b[49m\u001b[43mi\u001b[49m\u001b[43m]\u001b[49m \u001b[38;5;129;01mnot\u001b[39;00m \u001b[38;5;129;01min\u001b[39;00m expectedOutput:\n\u001b[1;32m      9\u001b[0m         \u001b[38;5;28;01mreturn\u001b[39;00m \u001b[38;5;28;01mFalse\u001b[39;00m\n\u001b[1;32m     10\u001b[0m \u001b[38;5;28;01mreturn\u001b[39;00m \u001b[38;5;28;01mTrue\u001b[39;00m\n",
      "\u001b[0;31mTypeError\u001b[0m: 'dict_keys' object is not subscriptable"
     ]
    }
   ],
   "source": [
    "testCalculateTally()"
   ]
  }
 ],
 "metadata": {
  "kernelspec": {
   "display_name": "Python 3 (ipykernel)",
   "language": "python",
   "name": "python3"
  },
  "language_info": {
   "codemirror_mode": {
    "name": "ipython",
    "version": 3
   },
   "file_extension": ".py",
   "mimetype": "text/x-python",
   "name": "python",
   "nbconvert_exporter": "python",
   "pygments_lexer": "ipython3",
   "version": "3.8.10"
  }
 },
 "nbformat": 4,
 "nbformat_minor": 5
}
