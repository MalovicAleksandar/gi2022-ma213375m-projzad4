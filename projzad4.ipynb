{
 "cells": [
  {
   "cell_type": "markdown",
   "id": "1b86782f",
   "metadata": {},
   "source": [
    "# Projektni zadatak 4, Genomska informatika, Skolska 2021/2022\n",
    "\n",
    "# Aleksandar Malovic 2021/3375"
   ]
  },
  {
   "cell_type": "markdown",
   "id": "c7029f81",
   "metadata": {},
   "source": [
    "## Assignment"
   ]
  },
  {
   "cell_type": "markdown",
   "id": "d96ff53c",
   "metadata": {},
   "source": [
    "* Implement an algorithm for indexed string search using Burrows-Wheeler transform and FM index as described on the lesson slides, without additional optimizations\n",
    "* Write tests for intermediate functions as well as final algorithm\n",
    "* Optimize algorithm in regards to memory usage and performace. Run regression tests and check optimization results using assigned testing parameters"
   ]
  },
  {
   "cell_type": "markdown",
   "id": "db28c472",
   "metadata": {},
   "source": [
    "## Testing remarks"
   ]
  },
  {
   "cell_type": "markdown",
   "id": "1a71a2fb",
   "metadata": {},
   "source": [
    "Tests for individual functions are grouped within testing functions to separate and enclose testing scopes. This also simplifies calling the tests at other places in the code.\n",
    "\n",
    "To accomodate the need for regression testing, in certain cases test cases will be represented as dictionaries which include the class name which will be used to construct the testing instance, along with all the test case data. This will make regression testing simple as we just need to rerun the tests with a different class name."
   ]
  },
  {
   "cell_type": "markdown",
   "id": "a448859f",
   "metadata": {},
   "source": [
    "## Helper functions"
   ]
  },
  {
   "cell_type": "markdown",
   "id": "3724d078",
   "metadata": {},
   "source": [
    "#### Is input a valid string"
   ]
  },
  {
   "cell_type": "code",
   "execution_count": 1,
   "id": "51d27267",
   "metadata": {},
   "outputs": [],
   "source": [
    "def isInputValid(t):\n",
    "    return t != None and len(t) > 0\n",
    "\n",
    "def testInputValidation():\n",
    "    # Test case 1: None, should return false\n",
    "    assert not isInputValid(None)\n",
    "    \n",
    "    # Test case 2: Empty string, should return false\n",
    "    assert not isInputValid('')\n",
    "    \n",
    "    # Test case 3: Valid input\n",
    "    assert isInputValid('abc')"
   ]
  },
  {
   "cell_type": "code",
   "execution_count": 2,
   "id": "2bbb498c",
   "metadata": {},
   "outputs": [],
   "source": [
    "testInputValidation()"
   ]
  },
  {
   "cell_type": "markdown",
   "id": "8ccfe5d4",
   "metadata": {},
   "source": [
    "#### Is input a valid string with ending character"
   ]
  },
  {
   "cell_type": "code",
   "execution_count": 3,
   "id": "68f0f637",
   "metadata": {},
   "outputs": [],
   "source": [
    "def isBWInputValid(t):\n",
    "    return t != None and len(t) > 0 and t != \"$\" and t.endswith('$')\n",
    "\n",
    "def testInputValidation():\n",
    "    # Test case 1: None, should return false\n",
    "    assert not isBWInputValid(None)\n",
    "    \n",
    "    # Test case 2: Empty string, should return false\n",
    "    assert not isBWInputValid('')\n",
    "    \n",
    "    # Test case 3: String containing only the ending character, should return false\n",
    "    assert not isBWInputValid('$')\n",
    "    \n",
    "    # Test case 4: String missing ending character, should return false\n",
    "    assert not isBWInputValid('abc')\n",
    "    \n",
    "    # Test case 5: Valid string, should return true\n",
    "    assert isBWInputValid('abc$')"
   ]
  },
  {
   "cell_type": "code",
   "execution_count": 4,
   "id": "821b16c9",
   "metadata": {},
   "outputs": [],
   "source": [
    "testInputValidation()"
   ]
  },
  {
   "cell_type": "markdown",
   "id": "c4db65a1",
   "metadata": {},
   "source": [
    "#### Arays are equal check, both length and order"
   ]
  },
  {
   "cell_type": "code",
   "execution_count": 5,
   "id": "e127c7cc",
   "metadata": {},
   "outputs": [],
   "source": [
    "def arraysEqual(output, expectedOutput):\n",
    "    # Both inputs being None is considered an error as well\n",
    "    if output == None or expectedOutput == None:\n",
    "        return False\n",
    "    if  len(output) != len(expectedOutput):\n",
    "        return False\n",
    "    for i in range(0, len(expectedOutput)):\n",
    "         if output[i] != expectedOutput[i]:\n",
    "            return False\n",
    "    return True\n",
    "\n",
    "def testArraysEqual():\n",
    "    assert not arraysEqual(None, None)\n",
    "    \n",
    "    assert not arraysEqual(None, [])\n",
    "    \n",
    "    assert not arraysEqual(['0', '1', '2'], ['0', '1', '2', '3'])\n",
    "    \n",
    "    assert not arraysEqual(['0', '1'], ['2', '3'])\n",
    "    \n",
    "    assert arraysEqual(['0', '1', '2', '3'], ['0', '1', '2', '3'])"
   ]
  },
  {
   "cell_type": "code",
   "execution_count": 6,
   "id": "87143282",
   "metadata": {},
   "outputs": [],
   "source": [
    "testArraysEqual()"
   ]
  },
  {
   "cell_type": "markdown",
   "id": "280dcb80",
   "metadata": {},
   "source": [
    "#### Sets are equal check, order not important, same elements"
   ]
  },
  {
   "cell_type": "code",
   "execution_count": 7,
   "id": "5355e902",
   "metadata": {},
   "outputs": [],
   "source": [
    "def setsEqual(output, expectedOutput):\n",
    "    # Both input being None is considered an error as well\n",
    "    if output == None or expectedOutput == None:\n",
    "        return False\n",
    "    if  len(output) != len(expectedOutput):\n",
    "        return False\n",
    "    for e in output:\n",
    "         if e not in expectedOutput:\n",
    "            return False\n",
    "    return True\n",
    "\n",
    "def testSetsEqual():\n",
    "    assert not setsEqual(None, None)\n",
    "    \n",
    "    assert not setsEqual(None, [])\n",
    "    \n",
    "    assert not setsEqual(['0', '1', '2'], ['0', '1', '2', '3'])\n",
    "    \n",
    "    assert not setsEqual(['1', '0'], ['2', '3'])\n",
    "    \n",
    "    assert setsEqual(['0', '1', '3', '2'], ['2', '0', '1', '3'])"
   ]
  },
  {
   "cell_type": "code",
   "execution_count": 8,
   "id": "a7812ead",
   "metadata": {},
   "outputs": [],
   "source": [
    "testSetsEqual()"
   ]
  },
  {
   "cell_type": "markdown",
   "id": "65f50f4e",
   "metadata": {},
   "source": [
    "## Burrows-Wheeler transform"
   ]
  },
  {
   "cell_type": "markdown",
   "id": "b58bf45e",
   "metadata": {},
   "source": [
    "Burrows-Wheeler transform consists of three steps.\n",
    "* Create an array of all input string rotations\n",
    "* Sort array in alphabetical order (Burrows-Wheeler matrix)\n",
    "* Take last column of the Burrows-Wheeler matrix"
   ]
  },
  {
   "cell_type": "markdown",
   "id": "af4a5edb",
   "metadata": {},
   "source": [
    "**ASSUMPTION 1:** Input string will already have the ending character appended before being subjected to the BWT, otherwise functions will return None to indicate error. Algorithm could create a local copy with the ending character appended but in case of large strings creating a local copy with just one additional character would be suboptimal from a memory standpoint considering other functions in the FM index rely on the same string."
   ]
  },
  {
   "cell_type": "markdown",
   "id": "5c81594d",
   "metadata": {},
   "source": [
    "### Create array of all string rotations"
   ]
  },
  {
   "cell_type": "markdown",
   "id": "acbcd5c7",
   "metadata": {},
   "source": [
    "Function appends the string to itself to make it simpler to calculate rotations (based on lesson slides). Implementation using splicing is also possible but is suboptimal from a memory standpoint."
   ]
  },
  {
   "cell_type": "code",
   "execution_count": 9,
   "id": "12991d34",
   "metadata": {},
   "outputs": [],
   "source": [
    "def rotations(t):\n",
    "    if not isBWInputValid(t):\n",
    "        return None\n",
    "    tt = t * 2\n",
    "    return [ tt[i:i+len(t)] for i in range(0, len(t)) ]"
   ]
  },
  {
   "cell_type": "markdown",
   "id": "a3a3ac9e",
   "metadata": {},
   "source": [
    "#### Tests"
   ]
  },
  {
   "cell_type": "code",
   "execution_count": 10,
   "id": "0f4d8c31",
   "metadata": {},
   "outputs": [],
   "source": [
    "def testRotations():\n",
    "    # Test case 1: None, should return None\n",
    "    assert rotations(None) == None\n",
    "    \n",
    "    # Test case 2: Empty string, should return false\n",
    "    assert rotations('') == None\n",
    "    \n",
    "    # Test case 3: String containing only the ending character, should return false\n",
    "    assert rotations('$') == None\n",
    "    \n",
    "    # Test case 4: String missing ending character, should return false\n",
    "    assert rotations('abc') == None\n",
    "    \n",
    "    # Test case 5: Input string of just one character \n",
    "    inputValue = 'a$'\n",
    "    expectedOutput = ['a$', '$a']\n",
    "    output = rotations(inputValue)\n",
    "    assert arraysEqual(output, expectedOutput)\n",
    "    \n",
    "    # Test case 6: Valid input string\n",
    "    inputValue = 'abcd$'\n",
    "    expectedOutput = ['abcd$', 'bcd$a', 'cd$ab', 'd$abc', '$abcd']\n",
    "    output = rotations(inputValue)\n",
    "    assert arraysEqual(output, expectedOutput)"
   ]
  },
  {
   "cell_type": "code",
   "execution_count": 11,
   "id": "ca67e52b",
   "metadata": {},
   "outputs": [],
   "source": [
    "testRotations()"
   ]
  },
  {
   "cell_type": "markdown",
   "id": "95eb21d9",
   "metadata": {},
   "source": [
    "### Sort string rotations in alphabetical order, Burrows-Wheeler Matrix"
   ]
  },
  {
   "cell_type": "markdown",
   "id": "21f65486",
   "metadata": {},
   "source": [
    "Based on lesson slides."
   ]
  },
  {
   "cell_type": "code",
   "execution_count": 12,
   "id": "0563a080",
   "metadata": {},
   "outputs": [],
   "source": [
    "def calculateBurrowsWheelerMatrix(t):\n",
    "    r = rotations(t)\n",
    "    return sorted(r) if r != None else None"
   ]
  },
  {
   "cell_type": "markdown",
   "id": "1e1cb0e5",
   "metadata": {},
   "source": [
    "#### Tests"
   ]
  },
  {
   "cell_type": "code",
   "execution_count": 13,
   "id": "463a1337",
   "metadata": {},
   "outputs": [],
   "source": [
    "def testCalculateBurrowsWheelerMatrix():\n",
    "    # Test case 1: None, should return None\n",
    "    assert calculateBurrowsWheelerMatrix(None) == None\n",
    "    \n",
    "    # Test case 2: Empty string, should return None\n",
    "    assert calculateBurrowsWheelerMatrix('') == None\n",
    "    \n",
    "    # Test case 3: String containing only the ending character, should return None\n",
    "    assert calculateBurrowsWheelerMatrix('$') == None\n",
    "    \n",
    "    # Test case 4: String missing ending character, should return None\n",
    "    assert calculateBurrowsWheelerMatrix('abc') == None\n",
    "    \n",
    "    # Test case 5\n",
    "    inputValue = 'abcd$'\n",
    "    expectedOutput = ['$abcd','abcd$', 'bcd$a', 'cd$ab', 'd$abc']\n",
    "    output = calculateBurrowsWheelerMatrix(inputValue)\n",
    "    arraysEqual(output, expectedOutput)"
   ]
  },
  {
   "cell_type": "code",
   "execution_count": 14,
   "id": "63ba62a6",
   "metadata": {},
   "outputs": [],
   "source": [
    "testCalculateBurrowsWheelerMatrix()"
   ]
  },
  {
   "cell_type": "markdown",
   "id": "2cca75aa",
   "metadata": {},
   "source": [
    "### Generate final Burrows-Wheeler transform"
   ]
  },
  {
   "cell_type": "markdown",
   "id": "7d52bf2b",
   "metadata": {},
   "source": [
    "We take the last column of the sorted rotations matrix (based on lesson slides)"
   ]
  },
  {
   "cell_type": "code",
   "execution_count": 15,
   "id": "fd9510bd",
   "metadata": {},
   "outputs": [],
   "source": [
    "# Calculates the actual Burrows-Wheeler transform, or L index (last column of the matrix)\n",
    "def calculateLIndex(t):\n",
    "    return ''.join(map(lambda x: x[-1], t)) if t != None else None\n",
    "\n",
    "def calculateBurrowsWheelerTransform(t):\n",
    "    r = calculateBurrowsWheelerMatrix(t)\n",
    "    return calculateLIndex(r) if r != None else None"
   ]
  },
  {
   "cell_type": "markdown",
   "id": "5ad777bf",
   "metadata": {},
   "source": [
    "#### Tests"
   ]
  },
  {
   "cell_type": "code",
   "execution_count": 16,
   "id": "a9e40ea7",
   "metadata": {},
   "outputs": [],
   "source": [
    "def testCalculateLIndex():\n",
    "    # Test case 1: None, should return None\n",
    "    assert calculateLIndex(None) == None\n",
    "    \n",
    "    # Test case 2:\n",
    "    assert calculateLIndex(['$abcd','abcd$', 'bcd$a', 'cd$ab', 'd$abc']) == 'd$abc'\n",
    "\n",
    "def testBurrowsWheelerTransform():\n",
    "    # Test case 1: None, should return None\n",
    "    assert calculateBurrowsWheelerTransform(None) == None\n",
    "    \n",
    "    # Test case 2: Empty string, should return None\n",
    "    assert calculateBurrowsWheelerTransform('') == None\n",
    "    \n",
    "    # Test case 3: String containing only the ending character, should return None\n",
    "    assert calculateBurrowsWheelerTransform('$') == None\n",
    "    \n",
    "    # Test case 4: String missing ending character, should return None\n",
    "    assert calculateBurrowsWheelerTransform('abc') == None\n",
    "    \n",
    "    # Test case 5\n",
    "    inputValue = 'abcd$'\n",
    "    expectedOutput = 'd$abc'\n",
    "    output = calculateBurrowsWheelerTransform(inputValue)\n",
    "    assert output != None\n",
    "    assert output == expectedOutput\n",
    "    \n",
    "    # Test case 6\n",
    "    inputValue = 'abaaba$'\n",
    "    expectedOutput = 'abba$aa'\n",
    "    output = calculateBurrowsWheelerTransform(inputValue)\n",
    "    assert output != None\n",
    "    assert output == expectedOutput"
   ]
  },
  {
   "cell_type": "code",
   "execution_count": 17,
   "id": "551c9144",
   "metadata": {},
   "outputs": [],
   "source": [
    "testCalculateLIndex()\n",
    "\n",
    "testBurrowsWheelerTransform()"
   ]
  },
  {
   "cell_type": "markdown",
   "id": "8d84dc43",
   "metadata": {},
   "source": [
    "## FM index"
   ]
  },
  {
   "cell_type": "markdown",
   "id": "26cc33b8",
   "metadata": {},
   "source": [
    "Core of the FM index structure consists of the following data:\n",
    "* F index (first column of the Burrows-Wheeler matrix)\n",
    "* L index (last column of the Burrows-Wheeler matrix, the Burrows-Wheeler transform itself)\n",
    "* Tally (matrix of input string character ranks)\n",
    "* Suffix array of the input string\n",
    "\n",
    "To facilitate regression testing after optimisations, F Index, Tally and Suffix array will be implemented as classes wrapping the internal data structure, making testing possible without the need to know the internal data structure. This will also simplify creating an optimised FM index as the constructor will accept a dictionary of class names where we can swap between optimised and unoptimised classes."
   ]
  },
  {
   "cell_type": "markdown",
   "id": "d550ec51",
   "metadata": {},
   "source": [
    "### F Index"
   ]
  },
  {
   "cell_type": "markdown",
   "id": "6ee2b587",
   "metadata": {},
   "source": [
    "F Index represents the first column of the Burrows-Wheeler matrix."
   ]
  },
  {
   "cell_type": "code",
   "execution_count": 75,
   "id": "d2ad9e6a",
   "metadata": {},
   "outputs": [],
   "source": [
    "class FIndex(object):\n",
    "    def __init__(self, bwm):\n",
    "        if bwm == None:\n",
    "            raise ValueError('Invalid BWM supplied')\n",
    "        self.value = ''.join(map(lambda x: x[0], bwm))\n",
    "        \n",
    "    \"\"\"\n",
    "    Returns first occurence of a character in the F Index, or -1 if character doesn't exist\n",
    "    \"\"\"\n",
    "    def first(self, char):\n",
    "        try:\n",
    "            return self.value.index(char)\n",
    "        except ValueError:\n",
    "            return -1\n",
    "    \n",
    "    \"\"\"\n",
    "    Returns last occurence of a character in the F Index, or -1 if character doesn't exist\n",
    "    \"\"\"\n",
    "    def last(self, char):\n",
    "        try:\n",
    "            return self.value.rindex(char)\n",
    "        except ValueError:\n",
    "            return -1"
   ]
  },
  {
   "cell_type": "markdown",
   "id": "95ca5e7b",
   "metadata": {},
   "source": [
    "#### Tests"
   ]
  },
  {
   "cell_type": "markdown",
   "id": "d8403ad1",
   "metadata": {},
   "source": [
    "To simplify function signatures and testing code, the following structure will be used to represent a test case:\n",
    "\n",
    "```python\n",
    "{ # F Index test case\n",
    "    'class': class_name # used to construct testing instance\n",
    "    'input': input for testing\n",
    "    'expectedOutput': expected value for F Index\n",
    "    'expectedFailure': true/false # whether we expect a failure\n",
    "    'queryTests': [] # Test cases for querying the F Index\n",
    "    \"\"\"\n",
    "    Query tests is an array of dictionaries with the following structure\n",
    "    {\n",
    "    'char': 'c'\n",
    "    'expectedFirst': 0\n",
    "    'expectedLast': 0\n",
    "    }\n",
    "    \"\"\"\n",
    "}\n",
    "```"
   ]
  },
  {
   "cell_type": "code",
   "execution_count": 129,
   "id": "08efdd8b",
   "metadata": {},
   "outputs": [],
   "source": [
    "def _testFIndex(test):\n",
    "    try:\n",
    "        fIndex = test['class'](test['input'])\n",
    "    except ValueError:\n",
    "        assert test['expectedFailure']\n",
    "        return\n",
    "    assert fIndex.value == test['expectedOutput']\n",
    "    for qTest in test['queryTests']:\n",
    "        assert (fIndex.first(qTest['char']) == qTest['expectedFirst'] \n",
    "            and fIndex.last(qTest['char']) == qTest['expectedLast'])\n",
    "\n",
    "def testFIndex(constr):\n",
    "    # Test case 1: None\n",
    "    _testFIndex(\n",
    "        {\n",
    "            'class': constr,\n",
    "            'input': None,\n",
    "            'expectedFailure': True\n",
    "        }\n",
    "    )\n",
    "    \n",
    "    # Test case 2: Valid BWM for input string 'abcd'\n",
    "    _testFIndex(\n",
    "        {\n",
    "            'class': constr,\n",
    "            'input': ['$abcd','abcd$', 'bcd$a', 'cd$ab', 'd$abc'],\n",
    "            'expectedFailure': False,\n",
    "            'expectedOutput': '$abcd',\n",
    "            'queryTests': [\n",
    "                {\n",
    "                    'char': 'a',\n",
    "                    'expectedFirst': 1,\n",
    "                    'expectedLast': 1\n",
    "                },\n",
    "                {\n",
    "                    'char': 'b',\n",
    "                    'expectedFirst': 2,\n",
    "                    'expectedLast': 2\n",
    "                },\n",
    "                {\n",
    "                    'char': 'n',\n",
    "                    'expectedFirst': -1,\n",
    "                    'expectedLast': -1\n",
    "                }\n",
    "            ]\n",
    "        }\n",
    "    )\n",
    "    \n",
    "    # Test case 2: Valid BWM with repetition for input string 'aabbab'\n",
    "    _testFIndex(\n",
    "        {\n",
    "            'class': constr,\n",
    "            'input': ['$aabbab','aabbab$','ab$aabb','abbab$a','b$aabba','bab$aab','bbab$aa'],\n",
    "            'expectedFailure': False,\n",
    "            'expectedOutput': '$aaabbb',\n",
    "            'queryTests': [\n",
    "                {\n",
    "                    'char': 'a',\n",
    "                    'expectedFirst': 1,\n",
    "                    'expectedLast': 3\n",
    "                },\n",
    "                {\n",
    "                    'char': 'b',\n",
    "                    'expectedFirst': 4,\n",
    "                    'expectedLast': 6\n",
    "                },\n",
    "                {\n",
    "                    'char': 'n',\n",
    "                    'expectedFirst': -1,\n",
    "                    'expectedLast': -1\n",
    "                }\n",
    "            ]\n",
    "        }\n",
    "    )"
   ]
  },
  {
   "cell_type": "code",
   "execution_count": 76,
   "id": "4198aa45",
   "metadata": {},
   "outputs": [],
   "source": [
    "testFIndex(FIndex)"
   ]
  },
  {
   "cell_type": "markdown",
   "id": "ffd1f1d7",
   "metadata": {},
   "source": [
    "### Calculate tally"
   ]
  },
  {
   "cell_type": "markdown",
   "id": "1f55b7cf",
   "metadata": {},
   "source": [
    "Tally is a matrix of L index(BWT) character ranks.\n",
    "Each row is assigned to one of the characters of the BWT. The number of columns is equal to the length of the BWT. The value of a particular field in the matrix is the rank of the particular character at that point of the BWT, which represents how many occurences of said character have been in BWT up to that point."
   ]
  },
  {
   "cell_type": "code",
   "execution_count": 77,
   "id": "3814d7bf",
   "metadata": {},
   "outputs": [],
   "source": [
    "class Tally(object):\n",
    "    def __init__(self, bwt):\n",
    "        if not isInputValid(bwt):\n",
    "            raise ValueError(\"Invalid BWT supplied\")\n",
    "        self.value = {}\n",
    "        for i in range(0, len(bwt)):\n",
    "            # Copy previous column values to current one\n",
    "            for row in self.value.values():\n",
    "                row[i] = row[i-1]\n",
    "            \"\"\" \n",
    "            Take current character in input string.\n",
    "            If a row for said character exists, increment rank. If not, insert a row populated with 0s, and then increment.\n",
    "            \"\"\"\n",
    "            currentChar = bwt[i]\n",
    "            if currentChar not in self.value:\n",
    "                self.value[currentChar] = [0] * len(bwt)\n",
    "            self.value[currentChar][i] += 1\n",
    "     \n",
    "    \"\"\"\n",
    "    Returns character rank at that position, or -1 if position is below 0 or greater than len, or if character isn't in tally\n",
    "    \"\"\"\n",
    "    def query(self, char, j):\n",
    "        if (char not in self.value) or (j < 0 or j > len(self.value[char])):\n",
    "            return -1\n",
    "        return self.value[char][j]"
   ]
  },
  {
   "cell_type": "markdown",
   "id": "4074e66a",
   "metadata": {},
   "source": [
    "#### Tests"
   ]
  },
  {
   "cell_type": "markdown",
   "id": "4edb1a19",
   "metadata": {},
   "source": [
    "To simplify function signatures and testing code, the following structure will be used to represent a test case:\n",
    "\n",
    "```python\n",
    "{ # Tally test case\n",
    "    'class': class_name # used to construct testing instance\n",
    "    'input': input for testing\n",
    "    'expectedOutput': expected value for Tally\n",
    "    'expectedFailure': true/false # whether we expect a failure\n",
    "    'queryTests': [] # Test cases for querying the Tally\n",
    "    \"\"\"\n",
    "    Query tests is an array of dictionaries with the following structure\n",
    "    {\n",
    "    'char': 'c'\n",
    "    'position': 0\n",
    "    'expectedRank': 0\n",
    "    }\n",
    "    \"\"\"\n",
    "}\n",
    "```"
   ]
  },
  {
   "cell_type": "code",
   "execution_count": 50,
   "id": "6bb77895",
   "metadata": {},
   "outputs": [],
   "source": [
    "def _testCalculateTally(test):\n",
    "    try:\n",
    "        tally = test['class'](test['input'])\n",
    "    except ValueError:\n",
    "        assert test['expectedFailure']\n",
    "        return\n",
    "    expectedOutput = test['expectedOutput']\n",
    "    assert setsEqual(tally.value.keys(), expectedOutput.keys())\n",
    "    for key in tally.value.keys():\n",
    "        assert arraysEqual(tally.value[key], expectedOutput[key])\n",
    "    for qTest in test['queryTests']:\n",
    "        assert tally.query(qTest['char'], qTest['position']) == qTest['expectedRank']\n",
    "\n",
    "def testCalculateTally(constr):\n",
    "    # Test case 1: None\n",
    "    _testCalculateTally(\n",
    "        {\n",
    "            'class': constr,\n",
    "            'input': None,\n",
    "            'expectedFailure': True\n",
    "        }\n",
    "    )\n",
    "    \n",
    "    \n",
    "    # Test case 2: Empty string\n",
    "    _testCalculateTally(\n",
    "        {\n",
    "            'class': constr,\n",
    "            'input': '',\n",
    "            'expectedFailure': True\n",
    "        }\n",
    "    )\n",
    "    \n",
    "    # Test case 3: One character string\n",
    "    _testCalculateTally(\n",
    "        {\n",
    "            'class': constr,\n",
    "            'input': 'a',\n",
    "            'expectedFailure': False,\n",
    "            'expectedOutput': {\n",
    "                'a': [1]\n",
    "            },\n",
    "            'queryTests': [\n",
    "                {\n",
    "                    'char': 'a',\n",
    "                    'position': 0,\n",
    "                    'expectedRank': 1\n",
    "                },\n",
    "                {\n",
    "                    'char': 'a',\n",
    "                    'position': 2,\n",
    "                    'expectedRank': -1\n",
    "                },\n",
    "                {\n",
    "                    'char': 'n',\n",
    "                    'position': 0,\n",
    "                    'expectedRank': -1\n",
    "                }\n",
    "            ]\n",
    "        }\n",
    "    )\n",
    "    \n",
    "    # Test case 4: Valid BWT string\n",
    "    _testCalculateTally(\n",
    "        {\n",
    "            'class': constr,\n",
    "            'input': 'abcaab$c',\n",
    "            'expectedFailure': False,\n",
    "            'expectedOutput': {\n",
    "                '$': [0, 0, 0, 0, 0, 0, 1, 1],\n",
    "                'a': [1, 1, 1, 2, 3, 3, 3, 3],\n",
    "                'b': [0, 1, 1, 1, 1, 2, 2, 2],\n",
    "                'c': [0, 0, 1, 1, 1, 1, 1, 2]\n",
    "            },\n",
    "            'queryTests': [\n",
    "                {\n",
    "                    'char': 'a',\n",
    "                    'position': 0,\n",
    "                    'expectedRank': 1\n",
    "                },\n",
    "                {\n",
    "                    'char': 'b',\n",
    "                    'position': 5,\n",
    "                    'expectedRank': 2\n",
    "                },\n",
    "                {\n",
    "                    'char': 'n',\n",
    "                    'position': 0,\n",
    "                    'expectedRank': -1\n",
    "                }\n",
    "            ]\n",
    "        }\n",
    "    )"
   ]
  },
  {
   "cell_type": "code",
   "execution_count": 78,
   "id": "e1f220ac",
   "metadata": {},
   "outputs": [],
   "source": [
    "testCalculateTally(Tally)"
   ]
  },
  {
   "cell_type": "markdown",
   "id": "174fb879",
   "metadata": {},
   "source": [
    "### Calculate suffix array"
   ]
  },
  {
   "cell_type": "markdown",
   "id": "16ecc493",
   "metadata": {},
   "source": [
    "Suffix array is a sorted array of all suffixes of an input string. The array itself contains tuples (offset, suffix), sorted by suffix, where offset is the offset of the suffix within the input string. In case of an FM index, we are storing a suffix array of the original input string."
   ]
  },
  {
   "cell_type": "code",
   "execution_count": 79,
   "id": "c4419f63",
   "metadata": {},
   "outputs": [],
   "source": [
    "class SuffixArray(object):\n",
    "    def __init__(self, t):\n",
    "        if not isInputValid(t):\n",
    "            raise ValueError('Invalid value provided for Suffix Array calculation')\n",
    "        suffixArray = []\n",
    "        for i in range(0, len(t)):\n",
    "            suffixArray.append((i, t[i:]))\n",
    "        self.value = sorted(suffixArray, key=lambda x: x[1])\n",
    "        \n",
    "    \"\"\"\n",
    "    Returns offsets on indexes between start and end\n",
    "    \"\"\"\n",
    "    def query(self, start, end):\n",
    "        return [suffix[0] for suffix in self.value[start:end]]"
   ]
  },
  {
   "cell_type": "markdown",
   "id": "fe307c44",
   "metadata": {},
   "source": [
    "#### Tests"
   ]
  },
  {
   "cell_type": "markdown",
   "id": "04a8f9fb",
   "metadata": {},
   "source": [
    "To simplify function signatures and testing code, the following structure will be used to represent a test case:\n",
    "\n",
    "```python\n",
    "{ # Suffix Array test case\n",
    "    'class': class_name # used to construct testing instance\n",
    "    'input': input for testing\n",
    "    'expectedOutput': expected value for Suffix Array\n",
    "    'expectedFailure': true/false # whether we expect a failure\n",
    "    'queryTests': [] # Test cases for querying the Tally\n",
    "    \"\"\"\n",
    "    Query tests is an array of dictionaries with the following structure\n",
    "    {\n",
    "    'start': 'c'\n",
    "    'end': 0\n",
    "    'expectedOffsets': [0, 1]\n",
    "    }\n",
    "    \"\"\"\n",
    "}\n",
    "```"
   ]
  },
  {
   "cell_type": "code",
   "execution_count": 64,
   "id": "70cd015b",
   "metadata": {},
   "outputs": [],
   "source": [
    "def _testCalculateSuffixArray(test):\n",
    "    try:\n",
    "        suffixArray = test['class'](test['input'])\n",
    "    except ValueError:\n",
    "        assert test['expectedFailure']\n",
    "        return\n",
    "    expectedOutput = test['expectedOutput']\n",
    "    assert arraysEqual(suffixArray.value, expectedOutput)\n",
    "    for qTest in test['queryTests']:\n",
    "        assert arraysEqual(suffixArray.query(qTest['start'], qTest['end']), qTest['expectedOffsets'])\n",
    "\n",
    "def testCalculateSuffixArray(constr):\n",
    "    # Test case 1: None\n",
    "    _testCalculateSuffixArray(\n",
    "        {\n",
    "            'class': constr,\n",
    "            'input': None,\n",
    "            'expectedFailure': True\n",
    "        }\n",
    "    )\n",
    "    \n",
    "    \n",
    "    # Test case 2: Empty string\n",
    "    _testCalculateSuffixArray(\n",
    "        {\n",
    "            'class': constr,\n",
    "            'input': '',\n",
    "            'expectedFailure': True\n",
    "        }\n",
    "    )\n",
    "    \n",
    "    # Test case 3: String with one character\n",
    "    _testCalculateSuffixArray(\n",
    "        {\n",
    "            'class': constr,\n",
    "            'input': 'a',\n",
    "            'expectedFailure': False,\n",
    "            'expectedOutput': [\n",
    "                (0, 'a')\n",
    "            ],\n",
    "            'queryTests': [\n",
    "                {\n",
    "                    'start': 0,\n",
    "                    'end': 1,\n",
    "                    'expectedOffsets': [0]\n",
    "                }\n",
    "            ]\n",
    "        }\n",
    "    )\n",
    "    \n",
    "    # Test case 4: Valid string\n",
    "    _testCalculateSuffixArray(\n",
    "        {\n",
    "            'class': constr,\n",
    "            'input': 'abcaabc$',\n",
    "            'expectedFailure': False,\n",
    "            'expectedOutput': [\n",
    "                (7, '$'),(3,'aabc$'), (4,'abc$'), (0,'abcaabc$'), (5,'bc$'), (1,'bcaabc$'),(6,'c$'),(2,'caabc$')\n",
    "            ],\n",
    "            'queryTests': [\n",
    "                {\n",
    "                    'start': 0,\n",
    "                    'end': 3,\n",
    "                    'expectedOffsets': [7, 3, 4]\n",
    "                }\n",
    "            ]\n",
    "        }\n",
    "    )"
   ]
  },
  {
   "cell_type": "code",
   "execution_count": 80,
   "id": "e0528032",
   "metadata": {},
   "outputs": [],
   "source": [
    "testCalculateSuffixArray(SuffixArray)"
   ]
  },
  {
   "cell_type": "markdown",
   "id": "7dda3b14",
   "metadata": {},
   "source": [
    "### FMIndex class with query support"
   ]
  },
  {
   "cell_type": "markdown",
   "id": "7645c8ae",
   "metadata": {},
   "source": [
    "FM index class will take two input values:\n",
    "* t - string to be indexed and queried\n",
    "* functions - dictionary containing class names for F Index, Tally and Suffix Array\n",
    "```python\n",
    "{\n",
    "    'fIndex': class_name\n",
    "    'tally': class_name\n",
    "    'suffixArray': class_name\n",
    "}\n",
    "```\n",
    "\n",
    "FM index querying is performed in the following way.\n",
    "\n",
    "If we are looking for P, start with characters in P in reverse order. Find positions of P's shortest suffix, and then extend the suffix until we exhaust P, or are not able to calculate the position of the next suffix, in which case we know there is no match.\n",
    "\n",
    "**EXAMPLE:**\n",
    "\n",
    "Let us assume R is ABCD, string we are querying is T. \n",
    "\n",
    "* Start with D and calculate first and last position of D based on the F Index.\n",
    "\n",
    " **\\[start, end\\] = \\[index of first occurence of D in F index + 1, index of last occurence of D in F index\\]**\n",
    " \n",
    "* Now we are looking for CD. Using LF mapping, we can see the rows of L index that contain C before D using the F index and the tally.\n",
    "\n",
    " **\\[start, end\\] = \\[\n",
    "index of first occurence of C in F index + tally(C, start -1) + 1, \n",
    "index of first occurence of C in F index + tally(C, end)\n",
    "\\]**\n",
    "\n",
    "* Continue repeating the process until we exhaust R, or until we get an invalid value."
   ]
  },
  {
   "cell_type": "code",
   "execution_count": 66,
   "id": "6fb87a47",
   "metadata": {},
   "outputs": [],
   "source": [
    "class FMIndex:\n",
    "    def __init__(self, t, functions):\n",
    "        \"\"\"\n",
    "        Check if input is a valid string.\n",
    "        If input doesn't already have the ending character, append the ending character.\n",
    "        \"\"\"\n",
    "        if not isInputValid(t):\n",
    "            raise ValueError(\"Invalid input string for calculating FM index\")\n",
    "        tt = t\n",
    "        if not tt.endswith('$'):\n",
    "            tt += '$'\n",
    "        bwm = calculateBurrowsWheelerMatrix(tt)\n",
    "        self.fIndex = functions['fIndex'](bwm)\n",
    "        self.lIndex = calculateLIndex(bwm)\n",
    "        self.tally = functions['tally'](self.lIndex)\n",
    "        self.suffixArray = functions['suffixArray'](tt)\n",
    "    \n",
    "    \"\"\"\n",
    "    Queries the initial string t for substring p. Returns array of indexes within t where p is located.\n",
    "    \"\"\"\n",
    "    def query(self, p):\n",
    "        start = 0\n",
    "        end = 0\n",
    "        length = len(p)\n",
    "        for i in range(0, length):\n",
    "            currentChar = p[length - i - 1]\n",
    "            if start == 0 and end == 0: # first character, look just in F index\n",
    "                start = self.fIndex.first(currentChar)\n",
    "                end = self.fIndex.last(currentChar)\n",
    "            else:\n",
    "                firstOcc = self.fIndex.first(currentChar)\n",
    "                start = firstOcc + self.tally.query(currentChar, start - 1)\n",
    "                end = firstOcc + self.tally.query(currentChar, end)\n",
    "        return self.suffixArray.query(start, end)"
   ]
  },
  {
   "cell_type": "markdown",
   "id": "1be525c9",
   "metadata": {},
   "source": [
    "#### Tests"
   ]
  },
  {
   "cell_type": "markdown",
   "id": "4316ecc0",
   "metadata": {},
   "source": [
    "To simplify function signatures and testing code, the following structure will be used to represent a test case:\n",
    "\n",
    "```python\n",
    "{ # Suffix Array test case\n",
    "    'functions': dictionary with class name for F Index, Tally and Suffix Array # used to construct testing instance\n",
    "    'input': input for testing\n",
    "    'expectedFailure': true/false # whether we expect a failure\n",
    "    'queryTests': [] # Test cases for querying the FM Index\n",
    "    \"\"\"\n",
    "    Query tests is an array of dictionaries with the following structure\n",
    "    {\n",
    "    'substring': 'c'\n",
    "    'expectedOffsets': [0, 1]\n",
    "    }\n",
    "    \"\"\"\n",
    "}\n",
    "```"
   ]
  },
  {
   "cell_type": "code",
   "execution_count": 72,
   "id": "e4c8d49d",
   "metadata": {},
   "outputs": [],
   "source": [
    "def _testFMIndex(test):\n",
    "    try:\n",
    "        fmIndex = FMIndex(test['input'], test['functions'])\n",
    "    except ValueError:\n",
    "        assert test['expectedFailure']\n",
    "        return\n",
    "    for qTest in test['queryTests']:\n",
    "        assert arraysEqual(fmIndex.query(qTest['substring']), qTest['expectedOutput'])\n",
    "\n",
    "def testFMIndex(functions):\n",
    "    # Test case 1: None\n",
    "    _testFMIndex(\n",
    "        {\n",
    "            'functions': functions,\n",
    "            'input': None,\n",
    "            'expectedFailure': True\n",
    "        }\n",
    "    )\n",
    "    \n",
    "    # Test case 2: Empty string\n",
    "    _testFMIndex(\n",
    "        {\n",
    "            'functions': functions,\n",
    "            'input': '',\n",
    "            'expectedFailure': True\n",
    "        }\n",
    "    )\n",
    "    \n",
    "    #Test case 3: Simple string without ending character\n",
    "    _testFMIndex(\n",
    "        {\n",
    "            'functions': functions,\n",
    "            'input': 'testtest',\n",
    "            'expectedFailure': True,\n",
    "            'queryTests': [\n",
    "                {\n",
    "                    'substring': 'te',\n",
    "                    'expectedOutput': [4, 0]\n",
    "                }\n",
    "            ]\n",
    "        }\n",
    "    )\n",
    "    \n",
    "    #Test case 4: Simple string with ending character\n",
    "    _testFMIndex(\n",
    "        {\n",
    "            'functions': functions,\n",
    "            'input': 'testtest$',\n",
    "            'expectedFailure': True,\n",
    "            'queryTests': [\n",
    "                {\n",
    "                    'substring': 'te',\n",
    "                    'expectedOutput': [4, 0]\n",
    "                }\n",
    "            ]\n",
    "        }\n",
    "    )"
   ]
  },
  {
   "cell_type": "code",
   "execution_count": 73,
   "id": "ae03a993",
   "metadata": {},
   "outputs": [],
   "source": [
    "testFMIndex(\n",
    "    {\n",
    "        'fIndex': FIndex,\n",
    "        'tally': Tally,\n",
    "        'suffixArray': SuffixArray\n",
    "    }\n",
    ")"
   ]
  },
  {
   "cell_type": "markdown",
   "id": "fb898d01",
   "metadata": {},
   "source": [
    "## FM Index Optimisations"
   ]
  },
  {
   "cell_type": "markdown",
   "id": "b2885ac5",
   "metadata": {},
   "source": [
    "### F Index optimisation"
   ]
  },
  {
   "cell_type": "markdown",
   "id": "009dc800",
   "metadata": {},
   "source": [
    "Since we know that F index is stored in alphabetical order, we don't have to store the entire string. Instead, we can compress it into a dictionary mapping characters to their first occurence in the array. This greately speeds up F index searching, and in case of large strings with a lot of character repetition (such as DNA), significantly reduces memory usage.\n",
    "\n",
    "**EXAMPLE:**\n",
    "\n",
    "Uncompressed: \\'\\\\$aaabbcccd\\' <br>\n",
    "Compressed: \\{\\'\\\\$\\': 0, \\'a\\': 1, \\'b\\': 4, \\'c\\': 6, \\'d\\': 9\\}"
   ]
  },
  {
   "cell_type": "code",
   "execution_count": 127,
   "id": "2146aa74",
   "metadata": {},
   "outputs": [],
   "source": [
    "import collections\n",
    "\n",
    "class OptimisedFIndex(FIndex):\n",
    "    def __init__(self, bwm):\n",
    "        super(self.__class__, self).__init__(bwm)\n",
    "        self.dict = {}\n",
    "        \"\"\"\n",
    "        We are using two helper dictionaries to maintain O(1) search for the last occurence of an char.\n",
    "        ki - mapping of a key to its index\n",
    "        ik - mapping of an index to its key\n",
    "        \n",
    "        When looking for the next entry in the dictionary, if we have k as the current key, we find next key as\n",
    "        ik[ki[k] + 1]\n",
    "        \"\"\"\n",
    "        self.ik = {}\n",
    "        self.ki = {}\n",
    "        self\n",
    "        j = 0\n",
    "        for i in range(0, len(self.value)):\n",
    "            if self.value[i] not in self.dict:\n",
    "                self.dict[self.value[i]] = i\n",
    "                self.ik[j] = self.value[i]\n",
    "                self.ki[self.value[i]] = j\n",
    "                j += 1\n",
    "            \n",
    "    def first(self, char):\n",
    "        return self.dict[char] if char in self.dict else -1\n",
    "    \n",
    "    def last(self, char):\n",
    "        if char not in self.dict:\n",
    "            return -1\n",
    "        nextIndex = self.ki[char] + 1\n",
    "        if nextIndex == len(self.dict):\n",
    "            return len(self.value) - 1\n",
    "        return self.dict[self.ik[nextIndex]] - 1 if char in self.dict else -1"
   ]
  },
  {
   "cell_type": "markdown",
   "id": "7cb3ff97",
   "metadata": {},
   "source": [
    "#### Tests"
   ]
  },
  {
   "cell_type": "markdown",
   "id": "3d6d1dd7",
   "metadata": {},
   "source": [
    "To make sure the optimised verion runs the same way as unoptimised, we will run the same tests."
   ]
  },
  {
   "cell_type": "code",
   "execution_count": 130,
   "id": "754e07b7",
   "metadata": {},
   "outputs": [],
   "source": [
    "testFIndex(OptimisedFIndex)"
   ]
  },
  {
   "cell_type": "markdown",
   "id": "12fbd209",
   "metadata": {},
   "source": [
    "### Tally optimisation"
   ]
  },
  {
   "cell_type": "markdown",
   "id": "f3d0065b",
   "metadata": {},
   "source": [
    "Depending on the length of the input string and the number of different characters in it, the tally matrix can get very big with potentially a lot of column repetition. A way to optimise tally matrix size without impacting its O(1) search time complexity is to implement checkpoints. Instead of storing a column for every position in the BWT, we will store a checkpoint, or ranks for every N-th position in the array where N is an integer value higher than 1 and less than input length (example: every 5th position).\n",
    "\n",
    "In this case, when we are querying the tally matrix. We take the closest checkpoint to the position we need, and then simply query the BWT from the position we need to the nearest checkpoint to make rank adjustements accordingly. Since we make at most N + 1 queries where N is the space of the checkpoints, our time complexity remains O(1) while we have greately reduced the space used.\n",
    "\n",
    "In this implementation, we will store every 5th rank. This does mean that we are suffering a performance penalty for small strings, but this is negligent compared to the memory optimisation for larger strings where we are cutting down the memory usage by 80%."
   ]
  },
  {
   "cell_type": "code",
   "execution_count": 136,
   "id": "274c6816",
   "metadata": {},
   "outputs": [],
   "source": [
    "class OptimisedTally(Tally):\n",
    "    def __initII(self, bwt):\n",
    "        if not isInputValid(bwt):\n",
    "            raise ValueError(\"Invalid BWT supplied\")\n",
    "        self.tally = {}\n",
    "        # Calculate optimized tally length\n",
    "        tallyLen = len(bwt) // 5\n",
    "        # Separate counter used to track the optimized tally columns\n",
    "        tallyCounter = 0\n",
    "        for i in range(0, len(bwt)):\n",
    "            # Copy previous column values to current one if is a factor of 5 and increment our tallyCounter\n",
    "            if i % 5 == 0:\n",
    "                for value in self.tally.values():\n",
    "                    value[tallyCounter] = value[tallyCounter-1]\n",
    "                tallyCounter += 1\n",
    "                # If we have reached end of tally, return immediately and skip remaining characters\n",
    "                if tallyCounter == tallyLen:\n",
    "                    break\n",
    "            \"\"\" \n",
    "            Take current character in input string.\n",
    "            If a row for said character exists, increment rank. If not, insert a row populated with 0s, and then increment.\n",
    "            \"\"\"\n",
    "            currentChar = bwt[i]\n",
    "            if currentChar not in self.tally:\n",
    "                self.tally[currentChar] = [0] * tallyLen\n",
    "            self.tally[tallyCounter][i] += 1\n",
    "            \n",
    "    def query(self, char, j):\n",
    "        pass"
   ]
  },
  {
   "cell_type": "markdown",
   "id": "db6ef87b",
   "metadata": {},
   "source": [
    "#### Tests"
   ]
  }
 ],
 "metadata": {
  "kernelspec": {
   "display_name": "Python 3 (ipykernel)",
   "language": "python",
   "name": "python3"
  },
  "language_info": {
   "codemirror_mode": {
    "name": "ipython",
    "version": 3
   },
   "file_extension": ".py",
   "mimetype": "text/x-python",
   "name": "python",
   "nbconvert_exporter": "python",
   "pygments_lexer": "ipython3",
   "version": "3.8.10"
  }
 },
 "nbformat": 4,
 "nbformat_minor": 5
}
