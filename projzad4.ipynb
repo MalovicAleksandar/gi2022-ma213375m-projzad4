{
 "cells": [
  {
   "cell_type": "markdown",
   "id": "da8ade6b",
   "metadata": {},
   "source": [
    "# Projektni zadatak 4, Genomska informatika, Skolska 2021/2022\n",
    "\n",
    "# Aleksandar Malovic 2021/3375"
   ]
  },
  {
   "cell_type": "markdown",
   "id": "4b8f6f5a",
   "metadata": {},
   "source": [
    "## Assignment"
   ]
  },
  {
   "cell_type": "markdown",
   "id": "ce71d8f9",
   "metadata": {},
   "source": [
    "* Implement an algorithm for indexed string search using Burrows-Wheeler transform and FM index as described on the lesson slides, without additional optimizations\n",
    "* Write tests for intermediate functions as well as final algorithm\n",
    "* Optimize algorithm in regards to memory usage and performace. Run regression tests and check optimization results using assigned testing parameters"
   ]
  },
  {
   "cell_type": "markdown",
   "id": "86ea56f8",
   "metadata": {},
   "source": [
    "## Assumptions"
   ]
  },
  {
   "cell_type": "markdown",
   "id": "d1181d6c",
   "metadata": {},
   "source": [
    "**ASSUMPTION 1:** Input string will already have the ending character appended, otherwise functions will return None to indicate error. Algorithm could create a local copy with the ending character appended but in case of large strings creating a local copy with just one additional character would be suboptimal from a memory standpoint."
   ]
  },
  {
   "cell_type": "markdown",
   "id": "e8cfa1a6",
   "metadata": {},
   "source": [
    "## Testing remarks"
   ]
  },
  {
   "cell_type": "markdown",
   "id": "e428dbb6",
   "metadata": {},
   "source": [
    "Tests for individual functions are grouped within testing functions to separate and enclose testing scopes. This also simplifies calling the tests at other places in the code."
   ]
  },
  {
   "cell_type": "markdown",
   "id": "654b7a0b",
   "metadata": {},
   "source": [
    "## Helper functions"
   ]
  },
  {
   "cell_type": "markdown",
   "id": "08516c62",
   "metadata": {},
   "source": [
    "#### Is input a valid string"
   ]
  },
  {
   "cell_type": "code",
   "execution_count": 1,
   "id": "40b711f5",
   "metadata": {},
   "outputs": [],
   "source": [
    "def isInputValid(t):\n",
    "    return t != None and len(t) > 0\n",
    "\n",
    "def testInputValidation():\n",
    "    # Test case 1: None, should return false\n",
    "    assert not isInputValid(None)\n",
    "    \n",
    "    # Test case 2: Empty string, should return false\n",
    "    assert not isInputValid('')\n",
    "    \n",
    "    # Test case 4: String missing ending character, should return false\n",
    "    assert not isInputValid('abc')"
   ]
  },
  {
   "cell_type": "code",
   "execution_count": 2,
   "id": "a6e68541",
   "metadata": {},
   "outputs": [
    {
     "ename": "AssertionError",
     "evalue": "",
     "output_type": "error",
     "traceback": [
      "\u001b[0;31m---------------------------------------------------------------------------\u001b[0m",
      "\u001b[0;31mAssertionError\u001b[0m                            Traceback (most recent call last)",
      "Input \u001b[0;32mIn [2]\u001b[0m, in \u001b[0;36m<cell line: 1>\u001b[0;34m()\u001b[0m\n\u001b[0;32m----> 1\u001b[0m \u001b[43mtestInputValidation\u001b[49m\u001b[43m(\u001b[49m\u001b[43m)\u001b[49m\n",
      "Input \u001b[0;32mIn [1]\u001b[0m, in \u001b[0;36mtestInputValidation\u001b[0;34m()\u001b[0m\n\u001b[1;32m      9\u001b[0m \u001b[38;5;28;01massert\u001b[39;00m \u001b[38;5;129;01mnot\u001b[39;00m isInputValid(\u001b[38;5;124m'\u001b[39m\u001b[38;5;124m'\u001b[39m)\n\u001b[1;32m     11\u001b[0m \u001b[38;5;66;03m# Test case 4: String missing ending character, should return false\u001b[39;00m\n\u001b[0;32m---> 12\u001b[0m \u001b[38;5;28;01massert\u001b[39;00m \u001b[38;5;129;01mnot\u001b[39;00m isInputValid(\u001b[38;5;124m'\u001b[39m\u001b[38;5;124mabc\u001b[39m\u001b[38;5;124m'\u001b[39m)\n",
      "\u001b[0;31mAssertionError\u001b[0m: "
     ]
    }
   ],
   "source": [
    "testInputValidation()"
   ]
  },
  {
   "cell_type": "markdown",
   "id": "56a51a2e",
   "metadata": {},
   "source": [
    "#### Is input a valid string with ending character"
   ]
  },
  {
   "cell_type": "code",
   "execution_count": null,
   "id": "f0ac57b4",
   "metadata": {},
   "outputs": [],
   "source": [
    "def isBWInputValid(t):\n",
    "    return t != None and len(t) > 0 and t != \"$\" and t.endswith('$')\n",
    "\n",
    "def testInputValidation():\n",
    "    # Test case 1: None, should return false\n",
    "    assert not isBWInputValid(None)\n",
    "    \n",
    "    # Test case 2: Empty string, should return false\n",
    "    assert not isBWInputValid('')\n",
    "    \n",
    "    # Test case 3: String containing only the ending character, should return false\n",
    "    assert not isBWInputValid('$')\n",
    "    \n",
    "    # Test case 4: String missing ending character, should return false\n",
    "    assert not isBWInputValid('abc')\n",
    "    \n",
    "    # Test case 5: Valid string, should return true\n",
    "    assert isBWInputValid('abc$')"
   ]
  },
  {
   "cell_type": "code",
   "execution_count": null,
   "id": "7bbd74a3",
   "metadata": {},
   "outputs": [],
   "source": [
    "testInputValidation()"
   ]
  },
  {
   "cell_type": "markdown",
   "id": "c71b4fa3",
   "metadata": {},
   "source": [
    "#### Arays are equal check, both length and order"
   ]
  },
  {
   "cell_type": "code",
   "execution_count": null,
   "id": "c5fc03d6",
   "metadata": {},
   "outputs": [],
   "source": [
    "def arraysEqual(output, expectedOutput):\n",
    "    # Both inputs being None is considered an error as well\n",
    "    if output == None or expectedOutput == None:\n",
    "        return False\n",
    "    if  len(output) != len(expectedOutput):\n",
    "        return False\n",
    "    for i in range(0, len(expectedOutput)):\n",
    "         if output[i] != expectedOutput[i]:\n",
    "            return False\n",
    "    return True\n",
    "\n",
    "def testArraysEqual():\n",
    "    assert not arraysEqual(None, None)\n",
    "    \n",
    "    assert not arraysEqual(None, [])\n",
    "    \n",
    "    assert not arraysEqual(['0', '1', '2'], ['0', '1', '2', '3'])\n",
    "    \n",
    "    assert not arraysEqual(['0', '1'], ['2', '3'])\n",
    "    \n",
    "    assert arraysEqual(['0', '1', '2', '3'], ['0', '1', '2', '3'])"
   ]
  },
  {
   "cell_type": "code",
   "execution_count": null,
   "id": "6a89a985",
   "metadata": {},
   "outputs": [],
   "source": [
    "testArraysEqual()"
   ]
  },
  {
   "cell_type": "markdown",
   "id": "b7308ed6",
   "metadata": {},
   "source": [
    "#### Sets are equal check, order not important, same elements"
   ]
  },
  {
   "cell_type": "code",
   "execution_count": null,
   "id": "53d4217a",
   "metadata": {},
   "outputs": [],
   "source": [
    "def setsEqual(output, expectedOutput):\n",
    "    # Both input being None is considered an error as well\n",
    "    if output == None or expectedOutput == None:\n",
    "        return False\n",
    "    if  len(output) != len(expectedOutput):\n",
    "        return False\n",
    "    for e in output:\n",
    "         if e not in expectedOutput:\n",
    "            return False\n",
    "    return True\n",
    "\n",
    "def testSetsEqual():\n",
    "    assert not setsEqual(None, None)\n",
    "    \n",
    "    assert not setsEqual(None, [])\n",
    "    \n",
    "    assert not setsEqual(['0', '1', '2'], ['0', '1', '2', '3'])\n",
    "    \n",
    "    assert not setsEqual(['1', '0'], ['2', '3'])\n",
    "    \n",
    "    assert setsEqual(['0', '1', '3', '2'], ['2', '0', '1', '3'])"
   ]
  },
  {
   "cell_type": "code",
   "execution_count": null,
   "id": "f037e161",
   "metadata": {},
   "outputs": [],
   "source": [
    "testSetsEqual()"
   ]
  },
  {
   "cell_type": "markdown",
   "id": "69902d90",
   "metadata": {},
   "source": [
    "## Burrows-Wheeler transform"
   ]
  },
  {
   "cell_type": "markdown",
   "id": "d8eebffe",
   "metadata": {},
   "source": [
    "Burrows-Wheeler transform consists of three steps.\n",
    "* Create an array of all input string rotations\n",
    "* Sort array in alphabetical order (Burrows-Wheeler matrix)\n",
    "* Take last column of the Burrows-Wheeler matrix"
   ]
  },
  {
   "cell_type": "markdown",
   "id": "534496ce",
   "metadata": {},
   "source": [
    "### Create array of all string rotations"
   ]
  },
  {
   "cell_type": "markdown",
   "id": "7c8deac6",
   "metadata": {},
   "source": [
    "Function appends the string to itself to make it simpler to calculate rotations (based on lesson slides). Implementation using splicing is also possible but is suboptimal from a memory standpoint."
   ]
  },
  {
   "cell_type": "code",
   "execution_count": null,
   "id": "11141cfc",
   "metadata": {},
   "outputs": [],
   "source": [
    "def rotations(t):\n",
    "    if not isBWInputValid(t):\n",
    "        return None\n",
    "    tt = t * 2\n",
    "    return [ tt[i:i+len(t)] for i in range(0, len(t)) ]"
   ]
  },
  {
   "cell_type": "markdown",
   "id": "3a65cccb",
   "metadata": {},
   "source": [
    "#### Tests"
   ]
  },
  {
   "cell_type": "code",
   "execution_count": null,
   "id": "5c47c7d8",
   "metadata": {},
   "outputs": [],
   "source": [
    "def testRotations():\n",
    "    # Test case 1: None, should return None\n",
    "    assert rotations(None) == None\n",
    "    \n",
    "    # Test case 2: Empty string, should return false\n",
    "    assert rotations('') == None\n",
    "    \n",
    "    # Test case 3: String containing only the ending character, should return false\n",
    "    assert rotations('$') == None\n",
    "    \n",
    "    # Test case 4: String missing ending character, should return false\n",
    "    assert rotations('abc') == None\n",
    "    \n",
    "    # Test case 5: Input string of just one character \n",
    "    inputValue = 'a$'\n",
    "    expectedOutput = ['a$', '$a']\n",
    "    output = rotations(inputValue)\n",
    "    assert arraysEqual(output, expectedOutput)\n",
    "    \n",
    "    # Test case 6: Valid input string\n",
    "    inputValue = 'abcd$'\n",
    "    expectedOutput = ['abcd$', 'bcd$a', 'cd$ab', 'd$abc', '$abcd']\n",
    "    output = rotations(inputValue)\n",
    "    assert arraysEqual(output, expectedOutput)"
   ]
  },
  {
   "cell_type": "code",
   "execution_count": null,
   "id": "d6a2b6ea",
   "metadata": {},
   "outputs": [],
   "source": [
    "testRotations()"
   ]
  },
  {
   "cell_type": "markdown",
   "id": "1aafa247",
   "metadata": {},
   "source": [
    "### Sort string rotations in alphabetical order, Burrows-Wheeler Matrix"
   ]
  },
  {
   "cell_type": "markdown",
   "id": "9092bafd",
   "metadata": {},
   "source": [
    "Based on lesson slides."
   ]
  },
  {
   "cell_type": "code",
   "execution_count": null,
   "id": "b71988fb",
   "metadata": {},
   "outputs": [],
   "source": [
    "def calculateBurrowsWheelerMatrix(t):\n",
    "    r = rotations(t)\n",
    "    return sorted(r) if r != None else None"
   ]
  },
  {
   "cell_type": "markdown",
   "id": "4899f26f",
   "metadata": {},
   "source": [
    "#### Tests"
   ]
  },
  {
   "cell_type": "code",
   "execution_count": null,
   "id": "1eb650eb",
   "metadata": {},
   "outputs": [],
   "source": [
    "def testCalculateBurrowsWheelerMatrix():\n",
    "    # Test case 1: None, should return None\n",
    "    assert calculateBurrowsWheelerMatrix(None) == None\n",
    "    \n",
    "    # Test case 2: Empty string, should return None\n",
    "    assert calculateBurrowsWheelerMatrix('') == None\n",
    "    \n",
    "    # Test case 3: String containing only the ending character, should return None\n",
    "    assert calculateBurrowsWheelerMatrix('$') == None\n",
    "    \n",
    "    # Test case 4: String missing ending character, should return None\n",
    "    assert calculateBurrowsWheelerMatrix('abc') == None\n",
    "    \n",
    "    # Test case 5\n",
    "    inputValue = 'abcd$'\n",
    "    expectedOutput = ['$abcd','abcd$', 'bcd$a', 'cd$ab', 'd$abc']\n",
    "    output = calculateBurrowsWheelerMatrix(inputValue)\n",
    "    arraysEqual(output, expectedOutput)"
   ]
  },
  {
   "cell_type": "code",
   "execution_count": null,
   "id": "ae653f52",
   "metadata": {},
   "outputs": [],
   "source": [
    "testCalculateBurrowsWheelerMatrix()"
   ]
  },
  {
   "cell_type": "markdown",
   "id": "e16b5f11",
   "metadata": {},
   "source": [
    "### Generate final Burrows-Wheeler transform"
   ]
  },
  {
   "cell_type": "markdown",
   "id": "dc4b9e75",
   "metadata": {},
   "source": [
    "We take the last column of the sorted rotations matrix (based on lesson slides)"
   ]
  },
  {
   "cell_type": "code",
   "execution_count": null,
   "id": "a20f1dd4",
   "metadata": {},
   "outputs": [],
   "source": [
    "# Calculates the actual Burrows-Wheeler transform, or L index (last column of the matrix)\n",
    "def calculateLIndex(t):\n",
    "    return ''.join(map(lambda x: x[-1], t)) if t != None else None\n",
    "\n",
    "# Calculates the F index (first column of the matrix), needed for FM index later\n",
    "def calculateFIndex(t):\n",
    "    return ''.join(map(lambda x: x[0], t)) if t != None else None\n",
    "\n",
    "def calculateBurrowsWheelerTransform(t):\n",
    "    r = calculateBurrowsWheelerMatrix(t)\n",
    "    return calculateLIndex(r) if r != None else None"
   ]
  },
  {
   "cell_type": "markdown",
   "id": "e16f9f29",
   "metadata": {},
   "source": [
    "#### Tests"
   ]
  },
  {
   "cell_type": "code",
   "execution_count": null,
   "id": "8d06688a",
   "metadata": {},
   "outputs": [],
   "source": [
    "def testCalculateLIndex():\n",
    "    # Test case 1: None, should return None\n",
    "    assert calculateLIndex(None) == None\n",
    "    \n",
    "    # Test case 2:\n",
    "    assert calculateLIndex(['$abcd','abcd$', 'bcd$a', 'cd$ab', 'd$abc']) == 'd$abc'\n",
    "    \n",
    "def testCalculateFIndex():\n",
    "    # Test case 1: None, should return None\n",
    "    assert calculateFIndex(None) == None\n",
    "    \n",
    "    # Test case 2:\n",
    "    assert calculateFIndex(['$abcd','abcd$', 'bcd$a', 'cd$ab', 'd$abc']) == '$abcd'\n",
    "\n",
    "def testBurrowsWheelerTransform():\n",
    "    # Test case 1: None, should return None\n",
    "    assert calculateBurrowsWheelerTransform(None) == None\n",
    "    \n",
    "    # Test case 2: Empty string, should return None\n",
    "    assert calculateBurrowsWheelerTransform('') == None\n",
    "    \n",
    "    # Test case 3: String containing only the ending character, should return None\n",
    "    assert calculateBurrowsWheelerTransform('$') == None\n",
    "    \n",
    "    # Test case 4: String missing ending character, should return None\n",
    "    assert calculateBurrowsWheelerTransform('abc') == None\n",
    "    \n",
    "    # Test case 5\n",
    "    inputValue = 'abcd$'\n",
    "    expectedOutput = 'd$abc'\n",
    "    output = calculateBurrowsWheelerTransform(inputValue)\n",
    "    assert output != None\n",
    "    assert output == expectedOutput\n",
    "    \n",
    "    # Test case 6\n",
    "    inputValue = 'abaaba$'\n",
    "    expectedOutput = 'abba$aa'\n",
    "    output = calculateBurrowsWheelerTransform(inputValue)\n",
    "    assert output != None\n",
    "    assert output == expectedOutput"
   ]
  },
  {
   "cell_type": "code",
   "execution_count": null,
   "id": "a55a6569",
   "metadata": {},
   "outputs": [],
   "source": [
    "testCalculateLIndex()\n",
    "\n",
    "testCalculateFIndex()\n",
    "\n",
    "testBurrowsWheelerTransform()"
   ]
  },
  {
   "cell_type": "markdown",
   "id": "11c54bf0",
   "metadata": {},
   "source": [
    "## FM index"
   ]
  },
  {
   "cell_type": "markdown",
   "id": "ec6c60a8",
   "metadata": {},
   "source": [
    "Core of the FM index structure consists of the following data:\n",
    "* F index (first column of the Burrows-Wheeler matrix)\n",
    "* L index (last column of the Burrows-Wheeler matrix, the Burrows-Wheeler transform itself)\n",
    "* Tally (matrix of input string character ranks)\n",
    "* Suffix array of the input string"
   ]
  },
  {
   "cell_type": "markdown",
   "id": "d19a2970",
   "metadata": {},
   "source": [
    "### Calculate tally"
   ]
  },
  {
   "cell_type": "markdown",
   "id": "d39f97fd",
   "metadata": {},
   "source": [
    "Tally is a matrix of L index(referred to as input string for simplicity in following paragraph) character ranks.\n",
    "Each row is assigned to one of the characters of the input string (except the terminal character). The number of columns is equal to the length of the input string. The value of a particular field in the matrix is the rank of the particular character at that point of the input string, which represents how many occurences of said character have been in the input string so far."
   ]
  },
  {
   "cell_type": "code",
   "execution_count": null,
   "id": "4302da1a",
   "metadata": {},
   "outputs": [],
   "source": [
    "def calculateTally(t):\n",
    "    if not isInputValid(t):\n",
    "        return None\n",
    "    # Start with empty tally\n",
    "    tally = {}\n",
    "    for i in range(0, len(t)):\n",
    "        # Copy previous column values to current one\n",
    "        for value in tally.values():\n",
    "            value[i] = value[i-1]\n",
    "        \"\"\" \n",
    "        Take current character in input string.\n",
    "        If a row for said character exists, increment rank. If not, insert a row populated with 0s, and then increment.\n",
    "        \"\"\"\n",
    "        currentChar = t[i]\n",
    "        if (currentChar == '$'):\n",
    "            continue\n",
    "        if currentChar not in tally:\n",
    "            tally[currentChar] = [0] * len(t)\n",
    "        tally[currentChar][i] += 1\n",
    "    return tally"
   ]
  },
  {
   "cell_type": "markdown",
   "id": "2cf54010",
   "metadata": {},
   "source": [
    "#### Tests"
   ]
  },
  {
   "cell_type": "code",
   "execution_count": null,
   "id": "d9e9964b",
   "metadata": {},
   "outputs": [],
   "source": [
    "def testCalculateTally():\n",
    "    # Test case 1: None, should return None\n",
    "    assert calculateTally(None) == None\n",
    "    \n",
    "    # Test case 2: Empty string, should return none\n",
    "    assert calculateTally('') == None\n",
    "    \n",
    "    # Test case 3: One character string\n",
    "    inputValue = 'a'\n",
    "    expectedOutput = {\n",
    "        'a': [1]\n",
    "    }\n",
    "    output = calculateTally(inputValue)\n",
    "    assert output != None\n",
    "    assert setsEqual(output.keys(), expectedOutput.keys())\n",
    "    for key in output.keys():\n",
    "        assert arraysEqual(output[key], expectedOutput[key])\n",
    "    \n",
    "    # Test case 4: Valid BWT string\n",
    "    inputValue = 'abcaab$c'\n",
    "    expectedOutput = {\n",
    "        'a': [1, 1, 1, 2, 3, 3, 3, 3],\n",
    "        'b': [0, 1, 1, 1, 1, 2, 2, 2],\n",
    "        'c': [0, 0, 1, 1, 1, 1, 1, 2]\n",
    "    }\n",
    "    output = calculateTally(inputValue)\n",
    "    assert output != None\n",
    "    assert setsEqual(output.keys(), expectedOutput.keys())\n",
    "    for key in output.keys():\n",
    "        assert arraysEqual(output[key], expectedOutput[key])"
   ]
  },
  {
   "cell_type": "code",
   "execution_count": null,
   "id": "96b7d514",
   "metadata": {},
   "outputs": [],
   "source": [
    "testCalculateTally()"
   ]
  },
  {
   "cell_type": "markdown",
   "id": "5d52638b",
   "metadata": {},
   "source": [
    "### Calculate suffix array"
   ]
  },
  {
   "cell_type": "markdown",
   "id": "6864a623",
   "metadata": {},
   "source": [
    "Suffix array is a sorted array of all suffixes of an input string. The array itself contains tuples (offset, suffix), sorted by suffix, where offset is the offset of the suffix within the input string. In case of an FM index, we are storing a suffix array of the original input string."
   ]
  },
  {
   "cell_type": "code",
   "execution_count": null,
   "id": "64f08b1f",
   "metadata": {},
   "outputs": [],
   "source": [
    "def calculateSuffixArray(t):\n",
    "    if not isInputValid(t):\n",
    "        return None\n",
    "    suffixArray = []\n",
    "    for i in range(0, len(t)):\n",
    "        suffixArray.append((i, t[i:]))\n",
    "    return sorted(suffixArray, key=lambda x: x[1])"
   ]
  },
  {
   "cell_type": "markdown",
   "id": "8a4535fc",
   "metadata": {},
   "source": [
    "#### Tests"
   ]
  },
  {
   "cell_type": "code",
   "execution_count": null,
   "id": "5bfb5a36",
   "metadata": {},
   "outputs": [],
   "source": [
    "def testCalculateSuffixArray():\n",
    "    # Test case 1: None, should return None\n",
    "    assert calculateSuffixArray(None) == None\n",
    "    \n",
    "    # Test case 2: Empty string, should return none\n",
    "    assert calculateSuffixArray('') == None\n",
    "    \n",
    "    # Test case 3: String with one character\n",
    "    inputValue = 'a'\n",
    "    expectedOutput = [(0, 'a')]\n",
    "    output = calculateSuffixArray(inputValue)\n",
    "    assert arraysEqual(output, expectedOutput)\n",
    "    \n",
    "    # Test case 4: Valid string\n",
    "    inputValue = 'abcaabc$'\n",
    "    expectedOutput = [(7, '$'),(3,'aabc$'), (4,'abc$'), \n",
    "                      (0,'abcaabc$'), (5,'bc$'), (1,'bcaabc$'),(6,'c$'),(2,'caabc$')]\n",
    "    output = calculateSuffixArray(inputValue)\n",
    "    assert arraysEqual(output, expectedOutput)"
   ]
  },
  {
   "cell_type": "code",
   "execution_count": null,
   "id": "cb073faa",
   "metadata": {},
   "outputs": [],
   "source": [
    "testCalculateSuffixArray()"
   ]
  }
 ],
 "metadata": {
  "kernelspec": {
   "display_name": "Python 3 (ipykernel)",
   "language": "python",
   "name": "python3"
  },
  "language_info": {
   "codemirror_mode": {
    "name": "ipython",
    "version": 3
   },
   "file_extension": ".py",
   "mimetype": "text/x-python",
   "name": "python",
   "nbconvert_exporter": "python",
   "pygments_lexer": "ipython3",
   "version": "3.8.10"
  }
 },
 "nbformat": 4,
 "nbformat_minor": 5
}
