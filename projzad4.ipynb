{
 "cells": [
  {
   "cell_type": "markdown",
   "id": "83236215",
   "metadata": {},
   "source": [
    "# Projektni zadatak 4, Genomska informatika, Skolska 2021/2022\n",
    "\n",
    "# Aleksandar Malovic 2021/3375"
   ]
  },
  {
   "cell_type": "markdown",
   "id": "40b6181c",
   "metadata": {},
   "source": [
    "## Testing remarks"
   ]
  },
  {
   "cell_type": "markdown",
   "id": "2bec9242",
   "metadata": {},
   "source": [
    "Tests for individual functions are grouped within testing functions to separate and enclose testing scopes. This also simplifies calling the tests at other places in the code."
   ]
  },
  {
   "cell_type": "markdown",
   "id": "a7c0964f",
   "metadata": {},
   "source": [
    "### Global testing helper functions"
   ]
  },
  {
   "cell_type": "code",
   "execution_count": 26,
   "id": "cd85a198",
   "metadata": {},
   "outputs": [],
   "source": [
    "def assertArraysEqual(output, expectedOutput):\n",
    "    assert output != None\n",
    "    assert len(output) == len(expectedOutput)\n",
    "    for i in range(0, len(expectedOutput)):\n",
    "        assert output[i] == expectedOutput[i]"
   ]
  },
  {
   "cell_type": "markdown",
   "id": "11b31585",
   "metadata": {},
   "source": [
    "## Burrows-Wheeler transform"
   ]
  },
  {
   "cell_type": "markdown",
   "id": "433d0a60",
   "metadata": {},
   "source": [
    "### Create list of all string rotations"
   ]
  },
  {
   "cell_type": "markdown",
   "id": "4a5351a9",
   "metadata": {},
   "source": [
    "Function appends the string to itself to make it simpler to calculate rotations (based on lesson slides). Implemntation using splicing is also possible but is suboptimal from a memory standpoint.\n",
    "\n",
    "**ASSUMPTION:** Input string will already have the ending character appended, otherwise function will return None to indicate error. Function could create a local copy with the ending character appended but in case of large strings creating a local copy with just one additional character would be suboptimal from a memory standpoint."
   ]
  },
  {
   "cell_type": "code",
   "execution_count": 50,
   "id": "004859e9",
   "metadata": {},
   "outputs": [],
   "source": [
    "def isInputValid(t):\n",
    "    return t != None and len(t) > 0 and t != \"$\" and t.endswith('$')\n",
    "\n",
    "def rotations(t):\n",
    "    if not isInputValid(t):\n",
    "        return None\n",
    "    tt = t * 2\n",
    "    return [ tt[i:i+len(t)] for i in range(0, len(t)) ]"
   ]
  },
  {
   "cell_type": "markdown",
   "id": "79f399ad",
   "metadata": {},
   "source": [
    "#### Tests"
   ]
  },
  {
   "cell_type": "code",
   "execution_count": 51,
   "id": "8a0aebb4",
   "metadata": {},
   "outputs": [],
   "source": [
    "def testInputValidation():\n",
    "    # Test case 1: None, should return false\n",
    "    assert not isInputValid(None)\n",
    "    \n",
    "    # Test case 2: Empty string, should return false\n",
    "    assert not isInputValid('')\n",
    "    \n",
    "    # Test case 3: String containing only the ending character, should return false\n",
    "    assert not isInputValid('$')\n",
    "    \n",
    "    # Test case 4: String missing ending character, should return false\n",
    "    assert not isInputValid('abc')\n",
    "    \n",
    "    # Test case 5: Valid string, should return true\n",
    "    assert isInputValid('abc$')"
   ]
  },
  {
   "cell_type": "code",
   "execution_count": 52,
   "id": "0a94ad9e",
   "metadata": {},
   "outputs": [],
   "source": [
    "def testRotations():\n",
    "    # Test case 1: None, should return None\n",
    "    assert rotations(None) == None\n",
    "    \n",
    "    # Test case 2: Empty string, should return false\n",
    "    assert rotations('') == None\n",
    "    \n",
    "    # Test case 3: String containing only the ending character, should return false\n",
    "    assert rotations('$') == None\n",
    "    \n",
    "    # Test case 4: String missing ending character, should return false\n",
    "    assert rotations('abc') == None\n",
    "    \n",
    "    # Test case 5: Input string of just one character \n",
    "    inputValue = 'a$'\n",
    "    expectedOutput = ['a$', '$a']\n",
    "    output = rotations(inputValue)\n",
    "    assertArraysEqual(output, expectedOutput)\n",
    "    \n",
    "    # Test case 6: Valid input string\n",
    "    inputValue = 'abcd$'\n",
    "    expectedOutput = ['abcd$', 'bcd$a', 'cd$ab', 'd$abc', '$abcd']\n",
    "    output = rotations(inputValue)\n",
    "    assertArraysEqual(output, expectedOutput)"
   ]
  },
  {
   "cell_type": "markdown",
   "id": "f481a7ac",
   "metadata": {},
   "source": [
    "#### Running tests"
   ]
  },
  {
   "cell_type": "code",
   "execution_count": 53,
   "id": "169e6e12",
   "metadata": {},
   "outputs": [],
   "source": [
    "testInputValidation()\n",
    "\n",
    "testRotations()"
   ]
  },
  {
   "cell_type": "markdown",
   "id": "eac7db9a",
   "metadata": {},
   "source": [
    "### Sort string rotations in alphabetical order"
   ]
  },
  {
   "cell_type": "markdown",
   "id": "b8939066",
   "metadata": {},
   "source": [
    "Based on lesson slides."
   ]
  },
  {
   "cell_type": "code",
   "execution_count": 77,
   "id": "eb3c7a0f",
   "metadata": {},
   "outputs": [],
   "source": [
    "def sortedRotations(t):\n",
    "    r = rotations(t)\n",
    "    return sorted(r) if r != None else None"
   ]
  },
  {
   "cell_type": "markdown",
   "id": "c98620c0",
   "metadata": {},
   "source": [
    "#### Tests"
   ]
  },
  {
   "cell_type": "code",
   "execution_count": 76,
   "id": "a54d1324",
   "metadata": {},
   "outputs": [],
   "source": [
    "def testSortRotations():\n",
    "    # Test case 1: None, should return None\n",
    "    assert sortedRotations(None) == None\n",
    "    \n",
    "    # Test case 2: Empty string, should return None\n",
    "    assert sortedRotations('') == None\n",
    "    \n",
    "    # Test case 3: String containing only the ending character, should return None\n",
    "    assert sortedRotations('$') == None\n",
    "    \n",
    "    # Test case 4: String missing ending character, should return None\n",
    "    assert sortedRotations('abc') == None\n",
    "    \n",
    "    # Test case 5\n",
    "    inputValue = 'abcd$'\n",
    "    expectedOutput = ['$abcd','abcd$', 'bcd$a', 'cd$ab', 'd$abc']\n",
    "    output = sortedRotations(inputValue)\n",
    "    assertArraysEqual(output, expectedOutput)"
   ]
  },
  {
   "cell_type": "markdown",
   "id": "9690b255",
   "metadata": {},
   "source": [
    "#### Running tests"
   ]
  },
  {
   "cell_type": "code",
   "execution_count": 78,
   "id": "989c91ab",
   "metadata": {},
   "outputs": [],
   "source": [
    "testSortRotations()"
   ]
  },
  {
   "cell_type": "markdown",
   "id": "80446ac1",
   "metadata": {},
   "source": [
    "### Generate final Burrows-Wheeler transform"
   ]
  },
  {
   "cell_type": "markdown",
   "id": "613add1f",
   "metadata": {},
   "source": [
    "We take the last column of the sorted rotations matrix (based on lesson slides)"
   ]
  },
  {
   "cell_type": "code",
   "execution_count": 81,
   "id": "40b08682",
   "metadata": {},
   "outputs": [],
   "source": [
    "def calculateBurrowsWheelerTransform(t):\n",
    "    r = sortedRotations(t)\n",
    "    return ''.join(map(lambda x: x[-1], r)) if r != None else None"
   ]
  },
  {
   "cell_type": "markdown",
   "id": "4281a4ce",
   "metadata": {},
   "source": [
    "#### Tests"
   ]
  },
  {
   "cell_type": "code",
   "execution_count": 82,
   "id": "23dd795a",
   "metadata": {},
   "outputs": [],
   "source": [
    "def testBurrowsWheelerTransform():\n",
    "    # Test case 1: None, should return None\n",
    "    assert calculateBurrowsWheelerTransform(None) == None\n",
    "    \n",
    "    # Test case 2: Empty string, should return None\n",
    "    assert calculateBurrowsWheelerTransform('') == None\n",
    "    \n",
    "    # Test case 3: String containing only the ending character, should return None\n",
    "    assert calculateBurrowsWheelerTransform('$') == None\n",
    "    \n",
    "    # Test case 4: String missing ending character, should return None\n",
    "    assert calculateBurrowsWheelerTransform('abc') == None\n",
    "    \n",
    "    # Test case 5\n",
    "    inputValue = 'abcd$'\n",
    "    expectedOutput = 'd$abc'\n",
    "    output = calculateBurrowsWheelerTransform(inputValue)\n",
    "    assert output != None\n",
    "    assert output == expectedOutput\n",
    "    \n",
    "    # Test case 6\n",
    "    inputValue = 'abaaba$'\n",
    "    expectedOutput = 'abba$aa'\n",
    "    output = calculateBurrowsWheelerTransform(inputValue)\n",
    "    assert output != None\n",
    "    assert output == expectedOutput"
   ]
  },
  {
   "cell_type": "markdown",
   "id": "a1d2d199",
   "metadata": {},
   "source": [
    "#### Running tests"
   ]
  },
  {
   "cell_type": "code",
   "execution_count": 84,
   "id": "67c57f08",
   "metadata": {},
   "outputs": [],
   "source": [
    "testBurrowsWheelerTransform()"
   ]
  }
 ],
 "metadata": {
  "kernelspec": {
   "display_name": "Python 3 (ipykernel)",
   "language": "python",
   "name": "python3"
  },
  "language_info": {
   "codemirror_mode": {
    "name": "ipython",
    "version": 3
   },
   "file_extension": ".py",
   "mimetype": "text/x-python",
   "name": "python",
   "nbconvert_exporter": "python",
   "pygments_lexer": "ipython3",
   "version": "3.8.10"
  }
 },
 "nbformat": 4,
 "nbformat_minor": 5
}
